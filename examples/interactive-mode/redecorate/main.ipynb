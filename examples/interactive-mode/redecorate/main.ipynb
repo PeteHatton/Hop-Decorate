{
 "cells": [
  {
   "cell_type": "code",
   "execution_count": 1,
   "metadata": {},
   "outputs": [],
   "source": [
    "from ase.build import bulk, make_supercell\n",
    "import numpy as np\n",
    "\n",
    "from HopDec.ASE import *\n",
    "from HopDec.Input import *\n",
    "from HopDec.Lammps import *\n",
    "from HopDec.State import *\n",
    "\n",
    "import HopDec.Redecorate as Redecorate\n",
    "import HopDec.Minimize as Minimize\n",
    "import HopDec.NEB as NEB\n",
    "import HopDec.MD as MD\n",
    "\n",
    "%matplotlib inline\n",
    "import matplotlib.pyplot as plt"
   ]
  },
  {
   "attachments": {},
   "cell_type": "markdown",
   "metadata": {},
   "source": [
    "# Generate Initial Structure (Vacancy in Pure Cu)"
   ]
  },
  {
   "cell_type": "code",
   "execution_count": 2,
   "metadata": {},
   "outputs": [],
   "source": [
    "# Generate simple ASE structure\n",
    "\n",
    "CuPrim = bulk('Cu', 'fcc', a=3.6, cubic=True)\n",
    "CuPrim.cell\n",
    "CuSuperCell = make_supercell(CuPrim, np.array([[5,0,0],[0,5,0],[0,0,5]]))"
   ]
  },
  {
   "cell_type": "code",
   "execution_count": 3,
   "metadata": {},
   "outputs": [],
   "source": [
    "# Create Vacancy in supercell\n",
    "del CuSuperCell[249]"
   ]
  },
  {
   "cell_type": "code",
   "execution_count": 4,
   "metadata": {},
   "outputs": [
    {
     "data": {
      "text/plain": [
       "Atoms(symbols='Cu499', pbc=True, cell=[18.0, 18.0, 18.0])"
      ]
     },
     "execution_count": 4,
     "metadata": {},
     "output_type": "execute_result"
    }
   ],
   "source": [
    "CuSuperCell"
   ]
  },
  {
   "attachments": {},
   "cell_type": "markdown",
   "metadata": {},
   "source": [
    "# Pass to Hop Dec"
   ]
  },
  {
   "cell_type": "code",
   "execution_count": 5,
   "metadata": {},
   "outputs": [],
   "source": [
    "params = getParams()"
   ]
  },
  {
   "cell_type": "code",
   "execution_count": 6,
   "metadata": {},
   "outputs": [
    {
     "data": {
      "text/plain": [
       "<HopDec.State.State at 0x175276540>"
      ]
     },
     "execution_count": 6,
     "metadata": {},
     "output_type": "execute_result"
    }
   ],
   "source": [
    "# Initialize HopDec and transform ASE structure to State object\n",
    "\n",
    "ase = ASE(params)\n",
    "initialState = ase.toState(CuSuperCell)\n",
    "initialState"
   ]
  },
  {
   "cell_type": "code",
   "execution_count": 7,
   "metadata": {},
   "outputs": [
    {
     "name": "stdout",
     "output_type": "stream",
     "text": [
      "[25/03/25, 09:02:41]:   Lammps >> Minimizing. F Tol: 1e-05.\n",
      "[25/03/25, 09:02:41]: Lammps >> Completed Minimization, E: -1764.8919 eV\n"
     ]
    },
    {
     "data": {
      "text/plain": [
       "0.03035336407386224"
      ]
     },
     "execution_count": 7,
     "metadata": {},
     "output_type": "execute_result"
    }
   ],
   "source": [
    "# mininize State in-place\n",
    "\n",
    "lmp = LammpsInterface(params)\n",
    "Minimize.main(initialState, params, lmp = lmp, verbose = True)"
   ]
  },
  {
   "attachments": {},
   "cell_type": "markdown",
   "metadata": {},
   "source": [
    "# Find Transition"
   ]
  },
  {
   "cell_type": "code",
   "execution_count": 8,
   "metadata": {},
   "outputs": [],
   "source": [
    "flag = 0\n",
    "_, newState, flag = MD.main(initialState, params)"
   ]
  },
  {
   "cell_type": "code",
   "execution_count": 9,
   "metadata": {},
   "outputs": [
    {
     "name": "stdout",
     "output_type": "stream",
     "text": [
      "[25/03/25, 09:02:43]: NEB >> Minimizing End Points\n",
      "[25/03/25, 09:02:43]:   Lammps >> Minimizing. F Tol: 1e-05.\n",
      "[25/03/25, 09:02:44]: Lammps >> Completed Minimization, E: -1764.8919 eV\n",
      "[25/03/25, 09:02:44]:   Lammps >> Minimizing. F Tol: 1e-05.\n",
      "[25/03/25, 09:02:44]: Lammps >> Completed Minimization, E: -1764.8919 eV\n",
      "[25/03/25, 09:02:44]: NEB >> Initializing ASE Structure\n",
      "[25/03/25, 09:02:44]: NEB >> Interpolating 11 images\n",
      "[25/03/25, 09:02:44]: NEB >> Performing NEB. Force Tol: 0.1, Transition:\n",
      "        ab2d71d992015e18300c2bc311585706 -> ab2d71d992015e18300c2bc311585706\n",
      "[25/03/25, 09:02:44]: NEB >> NEB finished Successfully. Extracting Results\n",
      "[25/03/25, 09:02:44]: NEB >> Checking NEB path for integrity\n",
      "[25/03/25, 09:02:44]:   Lammps >> Minimizing. F Tol: 1e-05.\n",
      "[25/03/25, 09:02:44]: Lammps >> Completed Minimization, E: -1764.8919 eV\n",
      "[25/03/25, 09:02:44]:   Lammps >> Minimizing. F Tol: 1e-05.\n",
      "[25/03/25, 09:02:44]: Lammps >> Completed Minimization, E: -1764.8919 eV\n",
      "[25/03/25, 09:02:44]: Transitions >> Saving NEB Energy Pathway to './/NEB_0.png'\n",
      "[25/03/25, 09:02:44]: Transitions >> Saving NEB Structure to './/0'\n",
      "[25/03/25, 09:02:44]: Transitions >> Results:\n",
      "\t    Forward Energy Barrier: 0.7327 eV, Rate at 1000 K: 1.486895e-04 1/s\n",
      "            Reverse Energy Barrer: 0.7326 eV, Rate at 1000 K: 1.486692e-04 1/s\n",
      "            KRA: 0.7326 eV\n",
      "            dE: 0.0001 eV \n"
     ]
    }
   ],
   "source": [
    "connection = NEB.main(initialState, newState, params, exportStructures = True, plotPathways = True, verbose = True) # run a NEB between these two states"
   ]
  },
  {
   "cell_type": "code",
   "execution_count": 10,
   "metadata": {},
   "outputs": [
    {
     "data": {
      "text/plain": [
       "0.7327"
      ]
     },
     "execution_count": 10,
     "metadata": {},
     "output_type": "execute_result"
    }
   ],
   "source": [
    "connection.transitions[0].forwardBarrier"
   ]
  },
  {
   "attachments": {},
   "cell_type": "markdown",
   "metadata": {},
   "source": [
    "# Redecorate Transition"
   ]
  },
  {
   "cell_type": "code",
   "execution_count": 11,
   "metadata": {},
   "outputs": [
    {
     "name": "stdout",
     "output_type": "stream",
     "text": [
      "[25/03/25, 09:02:48]: Redecorate >> Starting NEB Redecoration Campaign\n",
      "[25/03/25, 09:02:48]:   Redecorate >> rank: 0: Redecoration: 1\n",
      "[25/03/25, 09:02:49]:   Redecorate >> rank: 0: Redecoration: 2\n"
     ]
    }
   ],
   "source": [
    "# Given that we have found a valid Connection / Transition.\n",
    "# We may want to run a redecoration campaign\n",
    "# This one will take the States defined and conduct 10 NEBS (controlled in config file) \n",
    "# with redecoration of the atoms as either Cu or Ni at 50:50 concentrations (controlled in config file).\n",
    "# Then return a results object\n",
    "params.nDecorations = 2\n",
    "redecResults = Redecorate.main(connection.transitions[0], params)"
   ]
  },
  {
   "cell_type": "code",
   "execution_count": 15,
   "metadata": {},
   "outputs": [
    {
     "name": "stdout",
     "output_type": "stream",
     "text": [
      "./eeab7a95621b6ee0a4e5192a14f18705_0485123e3e3ba4ba57f588443258c2aa\n"
     ]
    },
    {
     "data": {
      "text/html": [
       "<div>\n",
       "<style scoped>\n",
       "    .dataframe tbody tr th:only-of-type {\n",
       "        vertical-align: middle;\n",
       "    }\n",
       "\n",
       "    .dataframe tbody tr th {\n",
       "        vertical-align: top;\n",
       "    }\n",
       "\n",
       "    .dataframe thead th {\n",
       "        text-align: right;\n",
       "    }\n",
       "</style>\n",
       "<table border=\"1\" class=\"dataframe\">\n",
       "  <thead>\n",
       "    <tr style=\"text-align: right;\">\n",
       "      <th></th>\n",
       "      <th>Composition</th>\n",
       "      <th>Decoration</th>\n",
       "      <th>Transition</th>\n",
       "      <th>Initial State</th>\n",
       "      <th>Final State</th>\n",
       "      <th>Forward Barrier</th>\n",
       "      <th>Reverse Barrier</th>\n",
       "      <th>KRA</th>\n",
       "      <th>dE</th>\n",
       "      <th>Init Can Label</th>\n",
       "      <th>Init non-Can Label</th>\n",
       "      <th>Fin Can Label</th>\n",
       "      <th>Fin non-Can Label</th>\n",
       "      <th>Trans Can Label</th>\n",
       "      <th>Trans non-Can Label</th>\n",
       "      <th>Initial Energy</th>\n",
       "      <th>Final Energy</th>\n",
       "    </tr>\n",
       "  </thead>\n",
       "  <tbody>\n",
       "    <tr>\n",
       "      <th>0</th>\n",
       "      <td>0.5,0.5</td>\n",
       "      <td>1</td>\n",
       "      <td>1</td>\n",
       "      <td>&lt;HopDec.State.State object at 0x17576c7d0&gt;</td>\n",
       "      <td>&lt;HopDec.State.State object at 0x1753344d0&gt;</td>\n",
       "      <td>0.6816</td>\n",
       "      <td>0.7839</td>\n",
       "      <td>0.7328</td>\n",
       "      <td>-0.1023</td>\n",
       "      <td>b059c077aca75409f67425870a12869f</td>\n",
       "      <td>345fd5b75cdbe6264c5f4e618cbae5c9</td>\n",
       "      <td>6a695e4de455b1fbf52ee1c75788ee05</td>\n",
       "      <td>b2b6727a39b2b191fe3795252d096fc7</td>\n",
       "      <td>9a8682b1787178bd7deac11c50252c80</td>\n",
       "      <td>0485123e3e3ba4ba57f588443258c2aa</td>\n",
       "      <td>-1980.471855</td>\n",
       "      <td>-1980.574689</td>\n",
       "    </tr>\n",
       "    <tr>\n",
       "      <th>1</th>\n",
       "      <td>0.5,0.5</td>\n",
       "      <td>2</td>\n",
       "      <td>1</td>\n",
       "      <td>&lt;HopDec.State.State object at 0x16c3885c0&gt;</td>\n",
       "      <td>&lt;HopDec.State.State object at 0x175277f80&gt;</td>\n",
       "      <td>0.9210</td>\n",
       "      <td>0.8580</td>\n",
       "      <td>0.8895</td>\n",
       "      <td>0.0630</td>\n",
       "      <td>55dde47b67b6c92c337dee649be5ca4c</td>\n",
       "      <td>345fd5b75cdbe6264c5f4e618cbae5c9</td>\n",
       "      <td>e0084b8210363ead6167031b2b9a936e</td>\n",
       "      <td>b2b6727a39b2b191fe3795252d096fc7</td>\n",
       "      <td>3d63bfacef7e8cd4ac33717fc41affe2</td>\n",
       "      <td>0485123e3e3ba4ba57f588443258c2aa</td>\n",
       "      <td>-1979.976632</td>\n",
       "      <td>-1979.914020</td>\n",
       "    </tr>\n",
       "  </tbody>\n",
       "</table>\n",
       "</div>"
      ],
      "text/plain": [
       "  Composition  Decoration  Transition  \\\n",
       "0     0.5,0.5           1           1   \n",
       "1     0.5,0.5           2           1   \n",
       "\n",
       "                                Initial State  \\\n",
       "0  <HopDec.State.State object at 0x17576c7d0>   \n",
       "1  <HopDec.State.State object at 0x16c3885c0>   \n",
       "\n",
       "                                  Final State  Forward Barrier  \\\n",
       "0  <HopDec.State.State object at 0x1753344d0>           0.6816   \n",
       "1  <HopDec.State.State object at 0x175277f80>           0.9210   \n",
       "\n",
       "   Reverse Barrier     KRA      dE                    Init Can Label  \\\n",
       "0           0.7839  0.7328 -0.1023  b059c077aca75409f67425870a12869f   \n",
       "1           0.8580  0.8895  0.0630  55dde47b67b6c92c337dee649be5ca4c   \n",
       "\n",
       "                 Init non-Can Label                     Fin Can Label  \\\n",
       "0  345fd5b75cdbe6264c5f4e618cbae5c9  6a695e4de455b1fbf52ee1c75788ee05   \n",
       "1  345fd5b75cdbe6264c5f4e618cbae5c9  e0084b8210363ead6167031b2b9a936e   \n",
       "\n",
       "                  Fin non-Can Label                   Trans Can Label  \\\n",
       "0  b2b6727a39b2b191fe3795252d096fc7  9a8682b1787178bd7deac11c50252c80   \n",
       "1  b2b6727a39b2b191fe3795252d096fc7  3d63bfacef7e8cd4ac33717fc41affe2   \n",
       "\n",
       "                Trans non-Can Label  Initial Energy  Final Energy  \n",
       "0  0485123e3e3ba4ba57f588443258c2aa    -1980.471855  -1980.574689  \n",
       "1  0485123e3e3ba4ba57f588443258c2aa    -1979.976632  -1979.914020  "
      ]
     },
     "execution_count": 15,
     "metadata": {},
     "output_type": "execute_result"
    }
   ],
   "source": [
    "# The redecoration results contains 10 'Connection'.\n",
    "# These 'connections' can be thought of as different decorations of the initial connection.\n",
    "print(redecResults)\n",
    "df = connection.transitions[0].loadRedecoration()\n",
    "df"
   ]
  },
  {
   "cell_type": "code",
   "execution_count": 19,
   "metadata": {},
   "outputs": [
    {
     "data": {
      "text/plain": [
       "0    <HopDec.State.State object at 0x1753344d0>\n",
       "1    <HopDec.State.State object at 0x175277f80>\n",
       "Name: Final State, dtype: object"
      ]
     },
     "execution_count": 19,
     "metadata": {},
     "output_type": "execute_result"
    }
   ],
   "source": [
    "# the results object also contains the States of the redecorations\n",
    "# In particular, this is the first redecoration and the first transition within that decoration.\n",
    "\n",
    "df['Initial State']\n",
    "df['Final State']"
   ]
  },
  {
   "attachments": {},
   "cell_type": "markdown",
   "metadata": {},
   "source": [
    "# Calculate Barrier as a Function of Cu:Ni Ratio"
   ]
  },
  {
   "cell_type": "code",
   "execution_count": 20,
   "metadata": {},
   "outputs": [],
   "source": [
    "initialState.writeState('0.dat')\n",
    "newState.writeState('1.dat')"
   ]
  },
  {
   "cell_type": "code",
   "execution_count": 21,
   "metadata": {},
   "outputs": [],
   "source": [
    "params = getParams()\n",
    "initialState = readStateLAMMPSData('0.dat')\n",
    "finalState = readStateLAMMPSData('1.dat')"
   ]
  },
  {
   "cell_type": "code",
   "execution_count": 22,
   "metadata": {},
   "outputs": [
    {
     "name": "stdout",
     "output_type": "stream",
     "text": [
      "[25/03/25, 09:04:57]:   Lammps >> Minimizing. F Tol: 1e-05.\n",
      "[25/03/25, 09:04:57]: Lammps >> Completed Minimization, E: -1764.8919 eV\n",
      "[25/03/25, 09:04:57]:   Lammps >> Minimizing. F Tol: 1e-05.\n",
      "[25/03/25, 09:04:57]: Lammps >> Completed Minimization, E: -1764.8919 eV\n"
     ]
    }
   ],
   "source": [
    "lmp = LammpsInterface(params)\n",
    "minDistInit = lmp.minimize(initialState, verbose = True)\n",
    "minDistFin = lmp.minimize(finalState, verbose = True)"
   ]
  },
  {
   "cell_type": "code",
   "execution_count": 24,
   "metadata": {},
   "outputs": [
    {
     "name": "stdout",
     "output_type": "stream",
     "text": [
      "Cu: 1, Ni: 0\n",
      "[25/03/25, 09:08:07]: Redecorate >> Starting NEB Redecoration Campaign\n",
      "[25/03/25, 09:08:07]:   Redecorate >> rank: 0: Redecoration: 1\n",
      "[25/03/25, 09:08:07]:   Redecorate >> rank: 0: Redecoration: 2\n",
      "[25/03/25, 09:08:08]:   Redecorate >> rank: 0: Redecoration: 3\n",
      "[25/03/25, 09:08:09]:   Redecorate >> rank: 0: Redecoration: 4\n",
      "[25/03/25, 09:08:09]:   Redecorate >> rank: 0: Redecoration: 5\n",
      "[25/03/25, 09:08:10]:   Redecorate >> rank: 0: Redecoration: 6\n",
      "[25/03/25, 09:08:11]:   Redecorate >> rank: 0: Redecoration: 7\n",
      "[25/03/25, 09:08:11]:   Redecorate >> rank: 0: Redecoration: 8\n",
      "[25/03/25, 09:08:12]:   Redecorate >> rank: 0: Redecoration: 9\n",
      "[25/03/25, 09:08:13]:   Redecorate >> rank: 0: Redecoration: 10\n",
      "Cu: 0.75, Ni: 0.25\n",
      "[25/03/25, 09:08:13]: Redecorate >> Starting NEB Redecoration Campaign\n",
      "[25/03/25, 09:08:13]:   Redecorate >> rank: 0: Redecoration: 1\n",
      "[25/03/25, 09:08:14]:   Redecorate >> rank: 0: Redecoration: 2\n",
      "[25/03/25, 09:08:15]:   Redecorate >> rank: 0: Redecoration: 3\n",
      "[25/03/25, 09:08:16]:   Redecorate >> rank: 0: Redecoration: 4\n",
      "[25/03/25, 09:08:17]:   Redecorate >> rank: 0: Redecoration: 5\n",
      "[25/03/25, 09:08:18]:   Redecorate >> rank: 0: Redecoration: 6\n",
      "[25/03/25, 09:08:20]:   Redecorate >> rank: 0: Redecoration: 7\n",
      "[25/03/25, 09:08:20]:   Redecorate >> rank: 0: Redecoration: 8\n",
      "[25/03/25, 09:08:22]:   Redecorate >> rank: 0: Redecoration: 9\n",
      "[25/03/25, 09:08:23]:   Redecorate >> rank: 0: Redecoration: 10\n",
      "Cu: 0.5, Ni: 0.5\n",
      "[25/03/25, 09:08:24]: Redecorate >> Starting NEB Redecoration Campaign\n",
      "[25/03/25, 09:08:24]:   Redecorate >> rank: 0: Redecoration: 1\n",
      "[25/03/25, 09:08:25]:   Redecorate >> rank: 0: Redecoration: 2\n",
      "[25/03/25, 09:08:26]:   Redecorate >> rank: 0: Redecoration: 3\n",
      "[25/03/25, 09:08:26]:   Redecorate >> rank: 0: Redecoration: 4\n",
      "[25/03/25, 09:08:27]:   Redecorate >> rank: 0: Redecoration: 5\n",
      "[25/03/25, 09:08:28]:   Redecorate >> rank: 0: Redecoration: 6\n",
      "[25/03/25, 09:08:29]:   Redecorate >> rank: 0: Redecoration: 7\n",
      "[25/03/25, 09:08:30]:   Redecorate >> rank: 0: Redecoration: 8\n",
      "[25/03/25, 09:08:32]:   Redecorate >> rank: 0: Redecoration: 9\n",
      "[25/03/25, 09:08:33]:   Redecorate >> rank: 0: Redecoration: 10\n",
      "Cu: 0.25, Ni: 0.75\n",
      "[25/03/25, 09:08:34]: Redecorate >> Starting NEB Redecoration Campaign\n",
      "[25/03/25, 09:08:34]:   Redecorate >> rank: 0: Redecoration: 1\n",
      "[25/03/25, 09:08:35]:   Redecorate >> rank: 0: Redecoration: 2\n",
      "[25/03/25, 09:08:35]:   Redecorate >> rank: 0: Redecoration: 3\n",
      "[25/03/25, 09:08:36]:   Redecorate >> rank: 0: Redecoration: 4\n",
      "[25/03/25, 09:08:37]:   Redecorate >> rank: 0: Redecoration: 5\n",
      "[25/03/25, 09:08:38]:   Redecorate >> rank: 0: Redecoration: 6\n",
      "[25/03/25, 09:08:39]:   Redecorate >> rank: 0: Redecoration: 7\n",
      "[25/03/25, 09:08:40]:   Redecorate >> rank: 0: Redecoration: 8\n",
      "[25/03/25, 09:08:41]:   Redecorate >> rank: 0: Redecoration: 9\n",
      "[25/03/25, 09:08:42]:   Redecorate >> rank: 0: Redecoration: 10\n",
      "Cu: 0, Ni: 1\n",
      "[25/03/25, 09:08:43]: Redecorate >> Starting NEB Redecoration Campaign\n",
      "[25/03/25, 09:08:43]:   Redecorate >> rank: 0: Redecoration: 1\n",
      "[25/03/25, 09:08:44]:   Redecorate >> rank: 0: Redecoration: 2\n",
      "[25/03/25, 09:08:44]:   Redecorate >> rank: 0: Redecoration: 3\n",
      "[25/03/25, 09:08:45]:   Redecorate >> rank: 0: Redecoration: 4\n",
      "[25/03/25, 09:08:46]:   Redecorate >> rank: 0: Redecoration: 5\n",
      "[25/03/25, 09:08:46]:   Redecorate >> rank: 0: Redecoration: 6\n",
      "[25/03/25, 09:08:47]:   Redecorate >> rank: 0: Redecoration: 7\n",
      "[25/03/25, 09:08:48]:   Redecorate >> rank: 0: Redecoration: 8\n",
      "[25/03/25, 09:08:48]:   Redecorate >> rank: 0: Redecoration: 9\n",
      "[25/03/25, 09:08:49]:   Redecorate >> rank: 0: Redecoration: 10\n"
     ]
    }
   ],
   "source": [
    "# Cu_{x}Ni_{1-x}\n",
    "xVals = [1,0.75,0.5,0.25,0]\n",
    "results  = []\n",
    "\n",
    "params.nDecorations = 10\n",
    "params.activeSpecies = ['Cu','Ni']\n",
    "params.staticSpecies = []\n",
    "\n",
    "tempTransition = Transition(initialState, finalState)\n",
    "\n",
    "for x in xVals:\n",
    "\n",
    "    print(f'Cu: {x}, Ni: {1-x}')\n",
    "    params.concentration = [x, 1-x]\n",
    "    \n",
    "    redFilename = Redecorate.main(tempTransition, params)\n",
    "    df = tempTransition.loadRedecoration()\n",
    "\n",
    "    results.append(np.mean( df['Forward Barrier'].to_list() ))"
   ]
  },
  {
   "cell_type": "code",
   "execution_count": 25,
   "metadata": {},
   "outputs": [
    {
     "data": {
      "image/png": "[encoded data removed]",
      "text/plain": [
       "<Figure size 500x300 with 1 Axes>"
      ]
     },
     "metadata": {},
     "output_type": "display_data"
    }
   ],
   "source": [
    "fig, axs = plt.subplots(1,1, figsize = (5,3))\n",
    "\n",
    "axs.scatter(xVals, results)\n",
    "axs.set_xlabel('Cu(x):Ni(1-x)')\n",
    "axs.set_ylabel('Energy Barrier (eV)')\n",
    "axs.set_ylim([0.6,1.3])\n",
    "\n",
    "axs.grid(True, linewidth=0.3)"
   ]
  },
  {
   "cell_type": "code",
   "execution_count": null,
   "metadata": {},
   "outputs": [],
   "source": []
  }
 ],
 "metadata": {
  "kernelspec": {
   "display_name": "HD",
   "language": "python",
   "name": "python3"
  },
  "language_info": {
   "codemirror_mode": {
    "name": "ipython",
    "version": 3
   },
   "file_extension": ".py",
   "mimetype": "text/x-python",
   "name": "python",
   "nbconvert_exporter": "python",
   "pygments_lexer": "ipython3",
   "version": "3.12.2"
  },
  "orig_nbformat": 4
 },
 "nbformat": 4,
 "nbformat_minor": 2
}
