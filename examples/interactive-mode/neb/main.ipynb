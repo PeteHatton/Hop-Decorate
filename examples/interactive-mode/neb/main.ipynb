{
 "cells": [
  {
   "attachments": {},
   "cell_type": "markdown",
   "metadata": {},
   "source": [
    "# NEB Example Use"
   ]
  },
  {
   "cell_type": "code",
   "execution_count": 12,
   "metadata": {},
   "outputs": [],
   "source": [
    "# import relevent modules\n",
    "from HopDec import NEB as neb\n",
    "from HopDec import Minimize\n",
    "from HopDec.Input import getParams\n",
    "from HopDec.State import *"
   ]
  },
  {
   "cell_type": "code",
   "execution_count": 13,
   "metadata": {},
   "outputs": [],
   "source": [
    "# Read the parameters from HopDec-config.xml\n",
    "params = getParams(inputParamFile='HopDec-config.xml')"
   ]
  },
  {
   "cell_type": "code",
   "execution_count": 14,
   "metadata": {},
   "outputs": [],
   "source": [
    "# Read the initial and final NEB files from directory and create\n",
    "# State object containing their data\n",
    "initialState = readStateLAMMPSData('DV1.dat')\n",
    "finalState = readStateLAMMPSData('DV2.dat')"
   ]
  },
  {
   "cell_type": "code",
   "execution_count": 15,
   "metadata": {},
   "outputs": [
    {
     "name": "stdout",
     "output_type": "stream",
     "text": [
      "[17/05/24, 19:56:23]:   Lammps >> Minimizing. F Tol: 1e-05.\n",
      "[17/05/24, 19:56:23]: Lammps >> Completed Minimization, E: -894.9069 eV\n"
     ]
    },
    {
     "data": {
      "text/plain": [
       "0.10649371384307503"
      ]
     },
     "execution_count": 15,
     "metadata": {},
     "output_type": "execute_result"
    }
   ],
   "source": [
    "Minimize.main(initialState, params, verbose = True)"
   ]
  },
  {
   "cell_type": "code",
   "execution_count": 16,
   "metadata": {},
   "outputs": [
    {
     "name": "stdout",
     "output_type": "stream",
     "text": [
      "[17/05/24, 19:56:23]:   Lammps >> Minimizing. F Tol: 1e-05.\n",
      "[17/05/24, 19:56:23]: Lammps >> Completed Minimization, E: -894.9069 eV\n"
     ]
    },
    {
     "data": {
      "text/plain": [
       "0.10660367237557752"
      ]
     },
     "execution_count": 16,
     "metadata": {},
     "output_type": "execute_result"
    }
   ],
   "source": [
    "Minimize.main(finalState, params, verbose = True)"
   ]
  },
  {
   "cell_type": "code",
   "execution_count": 17,
   "metadata": {},
   "outputs": [
    {
     "data": {
      "text/plain": [
       "-894.9068524630212"
      ]
     },
     "execution_count": 17,
     "metadata": {},
     "output_type": "execute_result"
    }
   ],
   "source": [
    "initialState.totalEnergy"
   ]
  },
  {
   "cell_type": "code",
   "execution_count": 18,
   "metadata": {},
   "outputs": [
    {
     "data": {
      "text/plain": [
       "-894.9068525971827"
      ]
     },
     "execution_count": 18,
     "metadata": {},
     "output_type": "execute_result"
    }
   ],
   "source": [
    "finalState.totalEnergy"
   ]
  },
  {
   "cell_type": "code",
   "execution_count": 19,
   "metadata": {},
   "outputs": [
    {
     "name": "stdout",
     "output_type": "stream",
     "text": [
      "[17/05/24, 19:56:23]: NEB >> Minimizing End Points\n",
      "[17/05/24, 19:56:23]:   Lammps >> Minimizing. F Tol: 1e-05.\n",
      "[17/05/24, 19:56:23]: Lammps >> Completed Minimization, E: -894.9069 eV\n",
      "[17/05/24, 19:56:23]:   Lammps >> Minimizing. F Tol: 1e-05.\n",
      "[17/05/24, 19:56:23]: Lammps >> Completed Minimization, E: -894.9069 eV\n",
      "[17/05/24, 19:56:23]: NEB >> Initializing ASE Structure\n",
      "[17/05/24, 19:56:23]: NEB >> Interpolating 11 images\n",
      "[17/05/24, 19:56:23]: NEB >> Performing NEB. Force Tol: 0.1, Transition:\n",
      "        81ddc11d9b908d07783ca5fb62e43312 -> 81ddc11d9b908d07783ca5fb62e43312\n",
      "[17/05/24, 19:56:25]: NEB >> NEB finished Successfully. Extracting Results\n",
      "[17/05/24, 19:56:25]: NEB >> Checking NEB path for integrity\n",
      "[17/05/24, 19:56:25]: NEB >> Found Intermediate Minima, Requeueing...\n",
      "[17/05/24, 19:56:25]: NEB >> Minimizing End Points\n",
      "[17/05/24, 19:56:25]:   Lammps >> Minimizing. F Tol: 1e-05.\n",
      "[17/05/24, 19:56:25]: Lammps >> Completed Minimization, E: -894.9069 eV\n",
      "[17/05/24, 19:56:25]:   Lammps >> Minimizing. F Tol: 1e-05.\n",
      "[17/05/24, 19:56:25]: Lammps >> Completed Minimization, E: -894.8015 eV\n",
      "[17/05/24, 19:56:25]: NEB >> Initializing ASE Structure\n",
      "[17/05/24, 19:56:25]: NEB >> Interpolating 11 images\n",
      "[17/05/24, 19:56:25]: NEB >> Performing NEB. Force Tol: 0.1, Transition:\n",
      "        81ddc11d9b908d07783ca5fb62e43312 -> 1d2f2e2455f3ec5c2d6fd104fc1d81f4\n",
      "[17/05/24, 19:56:25]: NEB >> NEB finished Successfully. Extracting Results\n",
      "[17/05/24, 19:56:25]: NEB >> Checking NEB path for integrity\n",
      "[17/05/24, 19:56:25]:   Lammps >> Minimizing. F Tol: 1e-05.\n",
      "[17/05/24, 19:56:25]: Lammps >> Completed Minimization, E: -894.9069 eV\n",
      "[17/05/24, 19:56:25]:   Lammps >> Minimizing. F Tol: 1e-05.\n",
      "[17/05/24, 19:56:25]: Lammps >> Completed Minimization, E: -894.8015 eV\n",
      "[17/05/24, 19:56:25]: Transitions >> Saving NEB Energy Pathway to './/NEB_0.png'\n",
      "[17/05/24, 19:56:25]: Transitions >> Saving NEB Structure to './/0'\n",
      "[17/05/24, 19:56:25]: Transitions >> Results:\n",
      "\t    Forward Energy Barrier: 0.6319 eV, Rate at 1000 K: 4.130591e-04 1/s\n",
      "            Reverse Energy Barrer: 0.5266 eV, Rate at 1000 K: 3.442268e-04 1/s\n",
      "            KRA: 0.5792 eV\n",
      "            dE: 0.1053 eV \n",
      "[17/05/24, 19:56:25]: NEB >> Minimizing End Points\n",
      "[17/05/24, 19:56:25]:   Lammps >> Minimizing. F Tol: 1e-05.\n",
      "[17/05/24, 19:56:25]: Lammps >> Completed Minimization, E: -894.8015 eV\n",
      "[17/05/24, 19:56:25]:   Lammps >> Minimizing. F Tol: 1e-05.\n",
      "[17/05/24, 19:56:25]: Lammps >> Completed Minimization, E: -894.9069 eV\n",
      "[17/05/24, 19:56:25]: NEB >> Initializing ASE Structure\n",
      "[17/05/24, 19:56:25]: NEB >> Interpolating 11 images\n",
      "[17/05/24, 19:56:25]: NEB >> Performing NEB. Force Tol: 0.1, Transition:\n",
      "        1d2f2e2455f3ec5c2d6fd104fc1d81f4 -> 81ddc11d9b908d07783ca5fb62e43312\n",
      "[17/05/24, 19:56:26]: NEB >> NEB finished Successfully. Extracting Results\n",
      "[17/05/24, 19:56:26]: NEB >> Checking NEB path for integrity\n",
      "[17/05/24, 19:56:26]:   Lammps >> Minimizing. F Tol: 1e-05.\n",
      "[17/05/24, 19:56:26]: Lammps >> Completed Minimization, E: -894.8015 eV\n",
      "[17/05/24, 19:56:26]:   Lammps >> Minimizing. F Tol: 1e-05.\n",
      "[17/05/24, 19:56:26]: Lammps >> Completed Minimization, E: -894.9069 eV\n",
      "[17/05/24, 19:56:26]: Transitions >> Saving NEB Energy Pathway to './/NEB_1.png'\n",
      "[17/05/24, 19:56:26]: Transitions >> Saving NEB Structure to './/1'\n",
      "[17/05/24, 19:56:26]: Transitions >> Results:\n",
      "\t    Forward Energy Barrier: 0.5266 eV, Rate at 1000 K: 1.168244e-03 1/s\n",
      "            Reverse Energy Barrer: 0.632 eV, Rate at 1000 K: 1.402070e-03 1/s\n",
      "            KRA: 0.5793 eV\n",
      "            dE: -0.1053 eV \n"
     ]
    }
   ],
   "source": [
    "# run the NEB method from the initial state to the final state.\n",
    "connection = neb.main(initialState, finalState, params, plotPathways = True, exportStructures = True, verbose = True)"
   ]
  },
  {
   "cell_type": "code",
   "execution_count": 20,
   "metadata": {},
   "outputs": [
    {
     "name": "stdout",
     "output_type": "stream",
     "text": [
      "Our connection contains 2 transitions.\n"
     ]
    }
   ],
   "source": [
    "# Notice that we actually did a couple of NEBs because there was many intermediate minima along the path\n",
    "# This resturns a 'Connection' Object.\n",
    "# A 'Connection' connects two defect states BUT a 'Connection' can contain many 'Transition'.\n",
    "# That is, a 'Connection' can have multiple saddles and many minima but a 'Transition' has strictly one saddle and two minina.\n",
    "# Lets take a look at what the 'Connection' object contains.\n",
    "\n",
    "connection.initialState # This is exactly the initial state that was defined above in cell 3\n",
    "connection.finalState # Ditto for the final state\n",
    "print(f'Our connection contains {len(connection)} transitions.')\n"
   ]
  },
  {
   "cell_type": "code",
   "execution_count": 21,
   "metadata": {},
   "outputs": [
    {
     "name": "stdout",
     "output_type": "stream",
     "text": [
      "Transition 1\n",
      "connection.transitions[i].forwardBarrier = 0.6319 eV\n",
      "connection.transitions[i].reverseBarrier = 0.5266 eV\n",
      "connection.transitions[i].KRA = 0.5792 eV\n",
      "connection.transitions[i].dE = 0.1053 eV \n",
      "\n",
      "Transition 2\n",
      "connection.transitions[i].forwardBarrier = 0.5266 eV\n",
      "connection.transitions[i].reverseBarrier = 0.632 eV\n",
      "connection.transitions[i].KRA = 0.5793 eV\n",
      "connection.transitions[i].dE = -0.1053 eV \n",
      "\n"
     ]
    }
   ],
   "source": [
    "connection.transitions # This is a list of the transitions we found within the connection.\n",
    "\n",
    "# Lets take a look at them:\n",
    "# These are state objects which define the initial, final and saddle state of each transition within our connection\n",
    "connection.transitions[0].initialState \n",
    "connection.transitions[0].finalState\n",
    "connection.transitions[0].saddleState\n",
    "\n",
    "connection.transitions[1].initialState \n",
    "connection.transitions[1].finalState\n",
    "connection.transitions[1].saddleState\n",
    "\n",
    "# and each transition has a forward barrier / reverse barrier / KRA / dE\n",
    "for i in range(len(connection.transitions)):\n",
    "    print(f'Transition {i+1}')\n",
    "    print(f\"{connection.transitions[i].forwardBarrier = } eV\")\n",
    "    print(f\"{connection.transitions[i].reverseBarrier = } eV\")\n",
    "    print(f\"{connection.transitions[i].KRA = } eV\")\n",
    "    print(f\"{connection.transitions[i].dE = } eV \\n\")\n"
   ]
  },
  {
   "cell_type": "code",
   "execution_count": 22,
   "metadata": {},
   "outputs": [
    {
     "name": "stdout",
     "output_type": "stream",
     "text": [
      "[17/05/24, 19:56:26]: Transitions >> Results:\n",
      "\t    Forward Energy Barrier(s): 0.6319, 0.5266 eV\n",
      "            Reverse Energy Barrer(s): 0.5266, 0.632 eV\n",
      "            KRA(s): 0.5792, 0.5793 eV\n",
      "            dE(s): 0.1053, -0.1053 eV \n"
     ]
    }
   ],
   "source": [
    "# or we can use this Connection method to print the results\n",
    "connection.printResults()"
   ]
  },
  {
   "cell_type": "code",
   "execution_count": null,
   "metadata": {},
   "outputs": [],
   "source": []
  }
 ],
 "metadata": {
  "kernelspec": {
   "display_name": "HD",
   "language": "python",
   "name": "python3"
  },
  "language_info": {
   "codemirror_mode": {
    "name": "ipython",
    "version": 3
   },
   "file_extension": ".py",
   "mimetype": "text/x-python",
   "name": "python",
   "nbconvert_exporter": "python",
   "pygments_lexer": "ipython3",
   "version": "3.12.2"
  },
  "orig_nbformat": 4
 },
 "nbformat": 4,
 "nbformat_minor": 2
}
