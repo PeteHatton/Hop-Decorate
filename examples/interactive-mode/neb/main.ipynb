{
 "cells": [
  {
   "attachments": {},
   "cell_type": "markdown",
   "metadata": {},
   "source": [
    "# NEB Example Use"
   ]
  },
  {
   "cell_type": "code",
   "execution_count": 1,
   "metadata": {},
   "outputs": [],
   "source": [
    "# import relevent modules\n",
    "from HopDec import NEB as neb\n",
    "from HopDec import Minimize\n",
    "from HopDec.Input import getParams\n",
    "from HopDec.State import *"
   ]
  },
  {
   "cell_type": "code",
   "execution_count": 2,
   "metadata": {},
   "outputs": [],
   "source": [
    "# Read the parameters from HopDec-config.xml\n",
    "params = getParams(inputParamFile='HopDec-config.xml')"
   ]
  },
  {
   "cell_type": "code",
   "execution_count": 3,
   "metadata": {},
   "outputs": [],
   "source": [
    "# Read the initial and final NEB files from directory and create\n",
    "# State object containing their data\n",
    "initialState = readStateLAMMPSData('DV1.dat')\n",
    "finalState = readStateLAMMPSData('DV2.dat')"
   ]
  },
  {
   "cell_type": "code",
   "execution_count": 4,
   "metadata": {},
   "outputs": [
    {
     "name": "stdout",
     "output_type": "stream",
     "text": [
      "[25/03/25, 09:16:58]:   Lammps >> Minimizing. F Tol: 1e-05.\n"
     ]
    },
    {
     "name": "stdout",
     "output_type": "stream",
     "text": [
      "[25/03/25, 09:16:58]: Lammps >> Completed Minimization, E: -894.9069 eV\n"
     ]
    },
    {
     "data": {
      "text/plain": [
       "0.10649371384307503"
      ]
     },
     "execution_count": 4,
     "metadata": {},
     "output_type": "execute_result"
    }
   ],
   "source": [
    "Minimize.main(initialState, params, verbose = True)"
   ]
  },
  {
   "cell_type": "code",
   "execution_count": 5,
   "metadata": {},
   "outputs": [
    {
     "name": "stdout",
     "output_type": "stream",
     "text": [
      "[25/03/25, 09:16:59]:   Lammps >> Minimizing. F Tol: 1e-05.\n",
      "[25/03/25, 09:16:59]: Lammps >> Completed Minimization, E: -894.9069 eV\n"
     ]
    },
    {
     "data": {
      "text/plain": [
       "0.10660367237557752"
      ]
     },
     "execution_count": 5,
     "metadata": {},
     "output_type": "execute_result"
    }
   ],
   "source": [
    "Minimize.main(finalState, params, verbose = True)"
   ]
  },
  {
   "cell_type": "code",
   "execution_count": 6,
   "metadata": {},
   "outputs": [
    {
     "data": {
      "text/plain": [
       "-894.9068524630212"
      ]
     },
     "execution_count": 6,
     "metadata": {},
     "output_type": "execute_result"
    }
   ],
   "source": [
    "initialState.totalEnergy"
   ]
  },
  {
   "cell_type": "code",
   "execution_count": 7,
   "metadata": {},
   "outputs": [
    {
     "data": {
      "text/plain": [
       "-894.9068525971827"
      ]
     },
     "execution_count": 7,
     "metadata": {},
     "output_type": "execute_result"
    }
   ],
   "source": [
    "finalState.totalEnergy"
   ]
  },
  {
   "cell_type": "code",
   "execution_count": 8,
   "metadata": {},
   "outputs": [
    {
     "name": "stdout",
     "output_type": "stream",
     "text": [
      "[25/03/25, 09:17:01]: NEB >> Minimizing End Points\n",
      "[25/03/25, 09:17:01]:   Lammps >> Minimizing. F Tol: 1e-05.\n",
      "[25/03/25, 09:17:01]: Lammps >> Completed Minimization, E: -894.9069 eV\n",
      "[25/03/25, 09:17:01]:   Lammps >> Minimizing. F Tol: 1e-05.\n",
      "[25/03/25, 09:17:01]: Lammps >> Completed Minimization, E: -894.9069 eV\n",
      "[25/03/25, 09:17:01]: NEB >> Initializing ASE Structure\n",
      "[25/03/25, 09:17:01]: NEB >> Interpolating 11 images\n",
      "[25/03/25, 09:17:01]: NEB >> Performing NEB. Force Tol: 0.1, Transition:\n",
      "        81ddc11d9b908d07783ca5fb62e43312 -> 81ddc11d9b908d07783ca5fb62e43312\n",
      "[25/03/25, 09:17:03]: NEB >> NEB finished Successfully. Extracting Results\n",
      "[25/03/25, 09:17:03]: NEB >> Checking NEB path for integrity\n",
      "[25/03/25, 09:17:03]: NEB >> Found Intermediate Minima, Requeueing...\n",
      "[25/03/25, 09:17:03]: NEB >> Minimizing End Points\n",
      "[25/03/25, 09:17:03]:   Lammps >> Minimizing. F Tol: 1e-05.\n",
      "[25/03/25, 09:17:03]: Lammps >> Completed Minimization, E: -894.9069 eV\n",
      "[25/03/25, 09:17:03]:   Lammps >> Minimizing. F Tol: 1e-05.\n",
      "[25/03/25, 09:17:03]: Lammps >> Completed Minimization, E: -894.8015 eV\n",
      "[25/03/25, 09:17:03]: NEB >> Initializing ASE Structure\n",
      "[25/03/25, 09:17:03]: NEB >> Interpolating 11 images\n",
      "[25/03/25, 09:17:03]: NEB >> Performing NEB. Force Tol: 0.1, Transition:\n",
      "        81ddc11d9b908d07783ca5fb62e43312 -> 1d2f2e2455f3ec5c2d6fd104fc1d81f4\n",
      "[25/03/25, 09:17:04]: NEB >> NEB finished Successfully. Extracting Results\n",
      "[25/03/25, 09:17:04]: NEB >> Checking NEB path for integrity\n",
      "[25/03/25, 09:17:04]:   Lammps >> Minimizing. F Tol: 1e-05.\n",
      "[25/03/25, 09:17:04]: Lammps >> Completed Minimization, E: -894.9069 eV\n",
      "[25/03/25, 09:17:04]:   Lammps >> Minimizing. F Tol: 1e-05.\n",
      "[25/03/25, 09:17:04]: Lammps >> Completed Minimization, E: -894.8015 eV\n",
      "[25/03/25, 09:17:04]: Transitions >> Saving NEB Energy Pathway to './/NEB_0.png'\n",
      "[25/03/25, 09:17:04]: Transitions >> Saving NEB Structure to './/0'\n",
      "[25/03/25, 09:17:04]: Transitions >> Results:\n",
      "\t    Forward Energy Barrier: 0.6278 eV, Rate at 1000 K: 4.303762e-04 1/s\n",
      "            Reverse Energy Barrer: 0.5226 eV, Rate at 1000 K: 3.582584e-04 1/s\n",
      "            KRA: 0.5752 eV\n",
      "            dE: 0.1052 eV \n",
      "[25/03/25, 09:17:04]: NEB >> Minimizing End Points\n",
      "[25/03/25, 09:17:04]:   Lammps >> Minimizing. F Tol: 1e-05.\n",
      "[25/03/25, 09:17:04]: Lammps >> Completed Minimization, E: -894.8015 eV\n",
      "[25/03/25, 09:17:04]:   Lammps >> Minimizing. F Tol: 1e-05.\n",
      "[25/03/25, 09:17:04]: Lammps >> Completed Minimization, E: -894.9069 eV\n",
      "[25/03/25, 09:17:04]: NEB >> Initializing ASE Structure\n",
      "[25/03/25, 09:17:04]: NEB >> Interpolating 11 images\n",
      "[25/03/25, 09:17:04]: NEB >> Performing NEB. Force Tol: 0.1, Transition:\n",
      "        1d2f2e2455f3ec5c2d6fd104fc1d81f4 -> 81ddc11d9b908d07783ca5fb62e43312\n",
      "[25/03/25, 09:17:04]: NEB >> NEB finished Successfully. Extracting Results\n",
      "[25/03/25, 09:17:04]: NEB >> Checking NEB path for integrity\n",
      "[25/03/25, 09:17:04]:   Lammps >> Minimizing. F Tol: 1e-05.\n",
      "[25/03/25, 09:17:04]: Lammps >> Completed Minimization, E: -894.8015 eV\n",
      "[25/03/25, 09:17:04]:   Lammps >> Minimizing. F Tol: 1e-05.\n",
      "[25/03/25, 09:17:04]: Lammps >> Completed Minimization, E: -894.9069 eV\n",
      "[25/03/25, 09:17:04]: Transitions >> Saving NEB Energy Pathway to './/NEB_1.png'\n",
      "[25/03/25, 09:17:04]: Transitions >> Saving NEB Structure to './/1'\n",
      "[25/03/25, 09:17:04]: Transitions >> Results:\n",
      "\t    Forward Energy Barrier: 0.5224 eV, Rate at 1000 K: 1.216810e-03 1/s\n",
      "            Reverse Energy Barrer: 0.6276 eV, Rate at 1000 K: 1.461849e-03 1/s\n",
      "            KRA: 0.575 eV\n",
      "            dE: -0.1052 eV \n"
     ]
    }
   ],
   "source": [
    "# run the NEB method from the initial state to the final state.\n",
    "connection = neb.main(initialState, finalState, params, plotPathways = True, exportStructures = True, verbose = True)"
   ]
  },
  {
   "cell_type": "code",
   "execution_count": 9,
   "metadata": {},
   "outputs": [
    {
     "name": "stdout",
     "output_type": "stream",
     "text": [
      "Our connection contains 2 transitions.\n"
     ]
    }
   ],
   "source": [
    "# Notice that we actually did a couple of NEBs because there was many intermediate minima along the path\n",
    "# This resturns a 'Connection' Object.\n",
    "# A 'Connection' connects two defect states BUT a 'Connection' can contain many 'Transition'.\n",
    "# That is, a 'Connection' can have multiple saddles and many minima but a 'Transition' has strictly one saddle and two minina.\n",
    "# Lets take a look at what the 'Connection' object contains.\n",
    "\n",
    "connection.initialState # This is exactly the initial state that was defined above in cell 3\n",
    "connection.finalState # Ditto for the final state\n",
    "print(f'Our connection contains {len(connection)} transitions.')\n"
   ]
  },
  {
   "cell_type": "code",
   "execution_count": 10,
   "metadata": {},
   "outputs": [
    {
     "name": "stdout",
     "output_type": "stream",
     "text": [
      "Transition 1\n",
      "connection.transitions[i].forwardBarrier = 0.6278 eV\n",
      "connection.transitions[i].reverseBarrier = 0.5226 eV\n",
      "connection.transitions[i].KRA = 0.5752 eV\n",
      "connection.transitions[i].dE = 0.1052 eV \n",
      "\n",
      "Transition 2\n",
      "connection.transitions[i].forwardBarrier = 0.5224 eV\n",
      "connection.transitions[i].reverseBarrier = 0.6276 eV\n",
      "connection.transitions[i].KRA = 0.575 eV\n",
      "connection.transitions[i].dE = -0.1052 eV \n",
      "\n"
     ]
    }
   ],
   "source": [
    "connection.transitions # This is a list of the transitions we found within the connection.\n",
    "\n",
    "# Lets take a look at them:\n",
    "# These are state objects which define the initial, final and saddle state of each transition within our connection\n",
    "connection.transitions[0].initialState \n",
    "connection.transitions[0].finalState\n",
    "connection.transitions[0].saddleState\n",
    "\n",
    "connection.transitions[1].initialState \n",
    "connection.transitions[1].finalState\n",
    "connection.transitions[1].saddleState\n",
    "\n",
    "# and each transition has a forward barrier / reverse barrier / KRA / dE\n",
    "for i in range(len(connection.transitions)):\n",
    "    print(f'Transition {i+1}')\n",
    "    print(f\"{connection.transitions[i].forwardBarrier = } eV\")\n",
    "    print(f\"{connection.transitions[i].reverseBarrier = } eV\")\n",
    "    print(f\"{connection.transitions[i].KRA = } eV\")\n",
    "    print(f\"{connection.transitions[i].dE = } eV \\n\")\n"
   ]
  },
  {
   "cell_type": "code",
   "execution_count": 11,
   "metadata": {},
   "outputs": [
    {
     "name": "stdout",
     "output_type": "stream",
     "text": [
      "[25/03/25, 09:17:05]: Transitions >> Results:\n",
      "\t    Forward Energy Barrier(s): 0.6278, 0.5224 eV\n",
      "            Reverse Energy Barrer(s): 0.5226, 0.6276 eV\n",
      "            KRA(s): 0.5752, 0.575 eV\n",
      "            dE(s): 0.1052, -0.1052 eV \n"
     ]
    }
   ],
   "source": [
    "# or we can use this Connection method to print the results\n",
    "connection.printResults()"
   ]
  },
  {
   "cell_type": "code",
   "execution_count": null,
   "metadata": {},
   "outputs": [],
   "source": []
  }
 ],
 "metadata": {
  "kernelspec": {
   "display_name": "HD",
   "language": "python",
   "name": "python3"
  },
  "language_info": {
   "codemirror_mode": {
    "name": "ipython",
    "version": 3
   },
   "file_extension": ".py",
   "mimetype": "text/x-python",
   "name": "python",
   "nbconvert_exporter": "python",
   "pygments_lexer": "ipython3",
   "version": "3.12.2"
  },
  "orig_nbformat": 4
 },
 "nbformat": 4,
 "nbformat_minor": 2
}
