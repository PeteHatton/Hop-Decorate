{
 "cells": [
  {
   "cell_type": "code",
   "execution_count": 1,
   "metadata": {},
   "outputs": [],
   "source": [
    "from HopDec.Input import getParams\n",
    "from HopDec.ASE import ASE\n",
    "from HopDec.Lammps import LammpsInterface\n",
    "\n",
    "import HopDec.Minimize as min\n",
    "\n",
    "from ase.build import bulk, make_supercell\n",
    "import numpy as np"
   ]
  },
  {
   "cell_type": "code",
   "execution_count": 2,
   "metadata": {},
   "outputs": [],
   "source": [
    "# Generate simple ASE structure\n",
    "CuPrim = bulk('Cu', 'fcc', a=3.6, cubic=True)\n",
    "CuPrim.cell\n",
    "CuSuperCell = make_supercell(CuPrim, np.array([[5,0,0],[0,5,0],[0,0,5]]))\n",
    "\n",
    "# Create Vacancy in supercell\n",
    "del CuSuperCell[249]"
   ]
  },
  {
   "cell_type": "code",
   "execution_count": 3,
   "metadata": {},
   "outputs": [],
   "source": [
    "# Initialize HopDec and transform ASE structure to State object\n",
    "params = getParams()"
   ]
  },
  {
   "cell_type": "code",
   "execution_count": 4,
   "metadata": {},
   "outputs": [],
   "source": [
    "# initialize the HopDec-ASE interface.\n",
    "ase = ASE(params)\n",
    "\n",
    "# transform the ASE object to a HopDec State Object\n",
    "state = ase.toState(CuSuperCell)"
   ]
  },
  {
   "cell_type": "code",
   "execution_count": 5,
   "metadata": {},
   "outputs": [
    {
     "name": "stdout",
     "output_type": "stream",
     "text": [
      "[22/06/25, 13:16:45]:   Lammps >> Minimizing. F Tol: 1e-05.\n",
      "[22/06/25, 13:16:45]: Lammps >> Completed Minimization, E: -1764.8919 eV\n"
     ]
    }
   ],
   "source": [
    "# mininize State in-place\n",
    "lmp = LammpsInterface(params)\n",
    "_ = min.main(state,params, lmp = lmp, verbose = True)"
   ]
  },
  {
   "cell_type": "code",
   "execution_count": 6,
   "metadata": {},
   "outputs": [],
   "source": [
    "# pass the now minimize structure back to ASE\n",
    "\n",
    "CuSuperCell_Min = state.toASE(params)"
   ]
  },
  {
   "cell_type": "code",
   "execution_count": 7,
   "metadata": {},
   "outputs": [
    {
     "data": {
      "text/plain": [
       "Atoms(symbols='Cu499', pbc=True, cell=[18.0, 18.0, 18.0])"
      ]
     },
     "execution_count": 7,
     "metadata": {},
     "output_type": "execute_result"
    }
   ],
   "source": [
    "CuSuperCell"
   ]
  }
 ],
 "metadata": {
  "kernelspec": {
   "display_name": "HD",
   "language": "python",
   "name": "python3"
  },
  "language_info": {
   "codemirror_mode": {
    "name": "ipython",
    "version": 3
   },
   "file_extension": ".py",
   "mimetype": "text/x-python",
   "name": "python",
   "nbconvert_exporter": "python",
   "pygments_lexer": "ipython3",
   "version": "3.12.2"
  },
  "orig_nbformat": 4
 },
 "nbformat": 4,
 "nbformat_minor": 2
}
