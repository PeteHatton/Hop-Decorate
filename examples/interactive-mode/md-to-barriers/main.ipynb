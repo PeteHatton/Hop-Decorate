{
 "cells": [
  {
   "cell_type": "code",
   "execution_count": 1,
   "metadata": {},
   "outputs": [],
   "source": [
    "from HopDec.State import readStateLAMMPSDump, readStateLAMMPSData\n",
    "from HopDec.Input import getParams\n",
    "from HopDec.Lammps import *\n",
    "import HopDec.NEB as neb\n",
    "import HopDec.Redecorate as red\n",
    "import HopDec.Minimize as min\n",
    "\n",
    "%matplotlib inline\n",
    "import matplotlib.pyplot as plt"
   ]
  },
  {
   "cell_type": "code",
   "execution_count": 2,
   "metadata": {},
   "outputs": [],
   "source": [
    "params = getParams()"
   ]
  },
  {
   "cell_type": "code",
   "execution_count": 3,
   "metadata": {},
   "outputs": [
    {
     "data": {
      "text/plain": [
       "[<HopDec.State.State at 0x105d71bb0>,\n",
       " <HopDec.State.State at 0x105d720c0>,\n",
       " <HopDec.State.State at 0x105d70fb0>,\n",
       " <HopDec.State.State at 0x164e4ec00>,\n",
       " <HopDec.State.State at 0x164e4f4a0>,\n",
       " <HopDec.State.State at 0x164e4f170>]"
      ]
     },
     "execution_count": 3,
     "metadata": {},
     "output_type": "execute_result"
    }
   ],
   "source": [
    "# load all frames of the dump as State objects\n",
    "states = readStateLAMMPSDump('example.dump',params)\n",
    "states"
   ]
  },
  {
   "cell_type": "code",
   "execution_count": 4,
   "metadata": {},
   "outputs": [
    {
     "name": "stdout",
     "output_type": "stream",
     "text": [
      "[19/05/24, 17:40:06]:   Lammps >> Minimizing. F Tol: 1e-10.\n",
      "[19/05/24, 17:40:07]: Lammps >> Completed Minimization, E: -8530.9586 eV\n",
      "[19/05/24, 17:40:08]:   Lammps >> Minimizing. F Tol: 1e-10.\n",
      "[19/05/24, 17:40:09]: Lammps >> Completed Minimization, E: -8531.7104 eV\n",
      "[19/05/24, 17:40:09]: NEB >> Minimizing End Points\n",
      "[19/05/24, 17:40:09]:   Lammps >> Minimizing. F Tol: 1e-10.\n",
      "[19/05/24, 17:40:09]: Lammps >> Completed Minimization, E: -8530.9586 eV\n",
      "[19/05/24, 17:40:10]:   Lammps >> Minimizing. F Tol: 1e-10.\n",
      "[19/05/24, 17:40:10]: Lammps >> Completed Minimization, E: -8531.7104 eV\n",
      "[19/05/24, 17:40:11]: NEB >> Initializing ASE Structure\n",
      "[19/05/24, 17:40:11]: NEB >> Interpolating 11 images\n",
      "[19/05/24, 17:40:11]: NEB >> Performing NEB. Force Tol: 0.01, Transition:\n",
      "        8c1fbe54f8022b7748c4ed7d02f921bd -> 8c1fbe54f8022b7748c4ed7d02f921bd\n",
      "[19/05/24, 17:40:29]: NEB >> NEB finished Successfully. Extracting Results\n",
      "[19/05/24, 17:40:29]: NEB >> Checking NEB path for integrity\n",
      "[19/05/24, 17:40:29]: NEB >> Found Intermediate Minima, Requeueing...\n",
      "[19/05/24, 17:40:29]: NEB >> Minimizing End Points\n",
      "[19/05/24, 17:40:29]:   Lammps >> Minimizing. F Tol: 1e-10.\n",
      "[19/05/24, 17:40:29]: Lammps >> Completed Minimization, E: -8530.9586 eV\n",
      "[19/05/24, 17:40:30]:   Lammps >> Minimizing. F Tol: 1e-10.\n",
      "[19/05/24, 17:40:30]: Lammps >> Completed Minimization, E: -8531.5044 eV\n",
      "[19/05/24, 17:40:32]: NEB >> Initializing ASE Structure\n",
      "[19/05/24, 17:40:32]: NEB >> Interpolating 11 images\n",
      "[19/05/24, 17:40:32]: NEB >> Performing NEB. Force Tol: 0.01, Transition:\n",
      "        8c1fbe54f8022b7748c4ed7d02f921bd -> 8c1fbe54f8022b7748c4ed7d02f921bd\n",
      "[19/05/24, 17:40:43]: NEB >> NEB finished Successfully. Extracting Results\n",
      "[19/05/24, 17:40:43]: NEB >> Checking NEB path for integrity\n",
      "[19/05/24, 17:40:45]:   Lammps >> Minimizing. F Tol: 1e-10.\n",
      "[19/05/24, 17:40:45]: Lammps >> Completed Minimization, E: -8530.9586 eV\n",
      "[19/05/24, 17:40:46]:   Lammps >> Minimizing. F Tol: 1e-10.\n",
      "[19/05/24, 17:40:46]: Lammps >> Completed Minimization, E: -8531.5044 eV\n",
      "[19/05/24, 17:40:47]: Transitions >> Results:\n",
      "\t    Forward Energy Barrier: 0.1726 eV, Rate at 1000 K: 2.329030e-02 1/s\n",
      "            Reverse Energy Barrer: 0.7184 eV, Rate at 1000 K: 9.693944e-02 1/s\n",
      "            KRA: 0.4455 eV\n",
      "            dE: -0.5458 eV \n",
      "[19/05/24, 17:40:49]: NEB >> Minimizing End Points\n",
      "[19/05/24, 17:40:49]:   Lammps >> Minimizing. F Tol: 1e-10.\n",
      "[19/05/24, 17:40:49]: Lammps >> Completed Minimization, E: -8531.5044 eV\n",
      "[19/05/24, 17:40:50]:   Lammps >> Minimizing. F Tol: 1e-10.\n",
      "[19/05/24, 17:40:50]: Lammps >> Completed Minimization, E: -8531.7104 eV\n",
      "[19/05/24, 17:40:51]: NEB >> Initializing ASE Structure\n",
      "[19/05/24, 17:40:51]: NEB >> Interpolating 11 images\n",
      "[19/05/24, 17:40:51]: NEB >> Performing NEB. Force Tol: 0.01, Transition:\n",
      "        8c1fbe54f8022b7748c4ed7d02f921bd -> 8c1fbe54f8022b7748c4ed7d02f921bd\n",
      "[19/05/24, 17:41:08]: NEB >> NEB finished Successfully. Extracting Results\n",
      "[19/05/24, 17:41:08]: NEB >> Checking NEB path for integrity\n",
      "[19/05/24, 17:41:10]:   Lammps >> Minimizing. F Tol: 1e-10.\n",
      "[19/05/24, 17:41:10]: Lammps >> Completed Minimization, E: -8531.5044 eV\n",
      "[19/05/24, 17:41:10]:   Lammps >> Minimizing. F Tol: 1e-10.\n",
      "[19/05/24, 17:41:10]: Lammps >> Completed Minimization, E: -8531.7104 eV\n",
      "[19/05/24, 17:41:12]: Transitions >> Results:\n",
      "\t    Forward Energy Barrier: 0.3625 eV, Rate at 1000 K: 5.399931e-03 1/s\n",
      "            Reverse Energy Barrer: 0.5685 eV, Rate at 1000 K: 8.468582e-03 1/s\n",
      "            KRA: 0.4655 eV\n",
      "            dE: -0.206 eV \n",
      "[19/05/24, 17:41:13]: Transitions >> Saving NEB Structure to 'frame_0->1/0'\n",
      "[19/05/24, 17:41:14]: Transitions >> Saving NEB Structure to 'frame_0->1/1'\n",
      "Completed Frame 0->1\n",
      "[19/05/24, 17:41:14]:   Lammps >> Minimizing. F Tol: 1e-10.\n",
      "[19/05/24, 17:41:14]: Lammps >> Completed Minimization, E: -8531.7104 eV\n",
      "[19/05/24, 17:41:14]:   Lammps >> Minimizing. F Tol: 1e-10.\n",
      "[19/05/24, 17:41:15]: Lammps >> Completed Minimization, E: -8531.7104 eV\n",
      "[19/05/24, 17:41:16]: NEB >> Minimizing End Points\n",
      "[19/05/24, 17:41:16]:   Lammps >> Minimizing. F Tol: 1e-10.\n",
      "[19/05/24, 17:41:16]: Lammps >> Completed Minimization, E: -8531.7104 eV\n",
      "[19/05/24, 17:41:16]:   Lammps >> Minimizing. F Tol: 1e-10.\n",
      "[19/05/24, 17:41:16]: Lammps >> Completed Minimization, E: -8531.7104 eV\n",
      "[19/05/24, 17:41:17]: NEB >> WARNING. Initial and Final Structures are the Same. Skipping...\n",
      "Completed Frame 1->2\n",
      "[19/05/24, 17:41:17]:   Lammps >> Minimizing. F Tol: 1e-10.\n",
      "[19/05/24, 17:41:17]: Lammps >> Completed Minimization, E: -8531.7104 eV\n",
      "[19/05/24, 17:41:18]:   Lammps >> Minimizing. F Tol: 1e-10.\n",
      "[19/05/24, 17:41:19]: Lammps >> Completed Minimization, E: -8531.5044 eV\n",
      "[19/05/24, 17:41:19]: NEB >> Minimizing End Points\n",
      "[19/05/24, 17:41:19]:   Lammps >> Minimizing. F Tol: 1e-10.\n",
      "[19/05/24, 17:41:19]: Lammps >> Completed Minimization, E: -8531.7104 eV\n",
      "[19/05/24, 17:41:20]:   Lammps >> Minimizing. F Tol: 1e-10.\n",
      "[19/05/24, 17:41:20]: Lammps >> Completed Minimization, E: -8531.5044 eV\n",
      "[19/05/24, 17:41:21]: NEB >> Initializing ASE Structure\n",
      "[19/05/24, 17:41:21]: NEB >> Interpolating 11 images\n",
      "[19/05/24, 17:41:21]: NEB >> Performing NEB. Force Tol: 0.01, Transition:\n",
      "        8c1fbe54f8022b7748c4ed7d02f921bd -> 8c1fbe54f8022b7748c4ed7d02f921bd\n",
      "[19/05/24, 17:41:34]: NEB >> NEB finished Successfully. Extracting Results\n",
      "[19/05/24, 17:41:34]: NEB >> Checking NEB path for integrity\n",
      "[19/05/24, 17:41:36]:   Lammps >> Minimizing. F Tol: 1e-10.\n",
      "[19/05/24, 17:41:36]: Lammps >> Completed Minimization, E: -8531.7104 eV\n",
      "[19/05/24, 17:41:37]:   Lammps >> Minimizing. F Tol: 1e-10.\n",
      "[19/05/24, 17:41:37]: Lammps >> Completed Minimization, E: -8531.5044 eV\n",
      "[19/05/24, 17:41:38]: Transitions >> Results:\n",
      "\t    Forward Energy Barrier: 0.5685 eV, Rate at 1000 K: 7.755616e-04 1/s\n",
      "            Reverse Energy Barrer: 0.3625 eV, Rate at 1000 K: 4.945313e-04 1/s\n",
      "            KRA: 0.4655 eV\n",
      "            dE: 0.206 eV \n",
      "[19/05/24, 17:41:40]: Transitions >> Saving NEB Structure to 'frame_2->3/0'\n",
      "Completed Frame 2->3\n",
      "[19/05/24, 17:41:40]:   Lammps >> Minimizing. F Tol: 1e-10.\n",
      "[19/05/24, 17:41:40]: Lammps >> Completed Minimization, E: -8531.5044 eV\n",
      "[19/05/24, 17:41:40]:   Lammps >> Minimizing. F Tol: 1e-10.\n",
      "[19/05/24, 17:41:41]: Lammps >> Completed Minimization, E: -8531.5044 eV\n",
      "[19/05/24, 17:41:42]: NEB >> Minimizing End Points\n",
      "[19/05/24, 17:41:42]:   Lammps >> Minimizing. F Tol: 1e-10.\n",
      "[19/05/24, 17:41:42]: Lammps >> Completed Minimization, E: -8531.5044 eV\n",
      "[19/05/24, 17:41:43]:   Lammps >> Minimizing. F Tol: 1e-10.\n",
      "[19/05/24, 17:41:43]: Lammps >> Completed Minimization, E: -8531.5044 eV\n",
      "[19/05/24, 17:41:43]: NEB >> WARNING. Initial and Final Structures are the Same. Skipping...\n",
      "Completed Frame 3->4\n",
      "[19/05/24, 17:41:43]:   Lammps >> Minimizing. F Tol: 1e-10.\n",
      "[19/05/24, 17:41:43]: Lammps >> Completed Minimization, E: -8531.5044 eV\n",
      "[19/05/24, 17:41:44]:   Lammps >> Minimizing. F Tol: 1e-10.\n",
      "[19/05/24, 17:41:45]: Lammps >> Completed Minimization, E: -8531.5044 eV\n",
      "[19/05/24, 17:41:45]: NEB >> Minimizing End Points\n",
      "[19/05/24, 17:41:45]:   Lammps >> Minimizing. F Tol: 1e-10.\n",
      "[19/05/24, 17:41:45]: Lammps >> Completed Minimization, E: -8531.5044 eV\n",
      "[19/05/24, 17:41:46]:   Lammps >> Minimizing. F Tol: 1e-10.\n",
      "[19/05/24, 17:41:46]: Lammps >> Completed Minimization, E: -8531.5044 eV\n",
      "[19/05/24, 17:41:46]: NEB >> WARNING. Initial and Final Structures are the Same. Skipping...\n",
      "Completed Frame 4->5\n"
     ]
    }
   ],
   "source": [
    "connectionList = []\n",
    "for i in range(len(states) - 1):\n",
    "    \n",
    "    init = states[i]\n",
    "    fin = states[i+1]\n",
    "\n",
    "    lmp = LammpsInterface(params)\n",
    "    min.main(init, params, lmp = lmp, verbose = True)\n",
    "    min.main(fin, params, lmp = lmp, verbose = True)\n",
    "\n",
    "    connection = neb.main(init, fin, params, verbose = True)\n",
    "    connection.exportStructures(folder = f'frame_{i}->{i+1}')\n",
    "\n",
    "    print(f'Completed Frame {i}->{i+1}')\n",
    "\n",
    "    connectionList.append(connection)"
   ]
  },
  {
   "cell_type": "code",
   "execution_count": 5,
   "metadata": {},
   "outputs": [
    {
     "name": "stdout",
     "output_type": "stream",
     "text": [
      "[19/05/24, 17:42:07]: Redecorate >> Starting NEB Redecoration Campaign\n",
      "[19/05/24, 17:42:07]:   Redecorate >> rank: 0: Redecoration: 1\n",
      "[19/05/24, 17:42:31]:   Redecorate >> rank: 0: Redecoration: 2\n",
      "[19/05/24, 17:42:52]:   Redecorate >> rank: 0: Redecoration: 3\n",
      "[19/05/24, 17:43:20]:   Redecorate >> rank: 0: Redecoration: 4\n",
      "[19/05/24, 17:43:50]:   Redecorate >> rank: 0: Redecoration: 5\n",
      "[19/05/24, 17:44:14]:   Redecorate >> rank: 0: Redecoration: 6\n",
      "[19/05/24, 17:44:40]:   Redecorate >> rank: 0: Redecoration: 7\n",
      "[19/05/24, 17:45:03]:   Redecorate >> rank: 0: Redecoration: 8\n",
      "[19/05/24, 17:46:43]:   Redecorate >> rank: 0: Redecoration: 9\n",
      "[19/05/24, 17:47:06]:   Redecorate >> rank: 0: Redecoration: 10\n"
     ]
    }
   ],
   "source": [
    "redecResults = red.main(connectionList[0].transitions[0], params, pickle = False)"
   ]
  },
  {
   "cell_type": "code",
   "execution_count": 6,
   "metadata": {},
   "outputs": [
    {
     "name": "stdout",
     "output_type": "stream",
     "text": [
      "[19/05/24, 17:47:31]: Redecorate >> Summary:\n",
      "\tConnection 1:\n",
      "\t\tTransition 1:\n",
      "\t\t\ttransition.forwardBarrier = 0.3024\n",
      "\t\t\ttransition.dE = -0.2109\n",
      "\tConnection 2:\n",
      "\t\tTransition 1:\n",
      "\t\t\ttransition.forwardBarrier = 0.164\n",
      "\t\t\ttransition.dE = -0.2191\n",
      "\tConnection 3:\n",
      "\t\tTransition 1:\n",
      "\t\t\ttransition.forwardBarrier = 0.4965\n",
      "\t\t\ttransition.dE = 0.0468\n",
      "\tConnection 4:\n",
      "\t\tTransition 1:\n",
      "\t\t\ttransition.forwardBarrier = 0.3733\n",
      "\t\t\ttransition.dE = 0.0711\n",
      "\tConnection 5:\n",
      "\t\tTransition 1:\n",
      "\t\t\ttransition.forwardBarrier = 0.3555\n",
      "\t\t\ttransition.dE = -0.1024\n",
      "\tConnection 6:\n",
      "\t\tTransition 1:\n",
      "\t\t\ttransition.forwardBarrier = 0.6051\n",
      "\t\t\ttransition.dE = 0.0476\n",
      "\tConnection 7:\n",
      "\t\tTransition 1:\n",
      "\t\t\ttransition.forwardBarrier = 0.5309\n",
      "\t\t\ttransition.dE = 0.3355\n",
      "\tConnection 8:\n",
      "\t\tTransition 1:\n",
      "\t\t\ttransition.forwardBarrier = 0.2474\n",
      "\t\t\ttransition.dE = -0.0579\n",
      "\t\tTransition 2:\n",
      "\t\t\ttransition.forwardBarrier = 0.2232\n",
      "\t\t\ttransition.dE = -0.0333\n",
      "\t\tTransition 3:\n",
      "\t\t\ttransition.forwardBarrier = 0.3684\n",
      "\t\t\ttransition.dE = 0.28\n",
      "\tConnection 9:\n",
      "\t\tTransition 1:\n",
      "\t\t\ttransition.forwardBarrier = 0.3429\n",
      "\t\t\ttransition.dE = 0.0177\n",
      "\tConnection 10:\n",
      "\t\tTransition 1:\n",
      "\t\t\ttransition.forwardBarrier = 0.2638\n",
      "\t\t\ttransition.dE = 0.0138\n"
     ]
    }
   ],
   "source": [
    "redecResults.summarize()"
   ]
  },
  {
   "cell_type": "code",
   "execution_count": 7,
   "metadata": {},
   "outputs": [
    {
     "data": {
      "text/plain": [
       "(array([1., 2., 1., 1., 4., 0., 0., 1., 1., 1.]),\n",
       " array([0.164  , 0.20811, 0.25222, 0.29633, 0.34044, 0.38455, 0.42866,\n",
       "        0.47277, 0.51688, 0.56099, 0.6051 ]),\n",
       " <BarContainer object of 10 artists>)"
      ]
     },
     "execution_count": 7,
     "metadata": {},
     "output_type": "execute_result"
    },
    {
     "data": {
      "image/png": "[encoded data removed]",
      "text/plain": [
       "<Figure size 500x400 with 1 Axes>"
      ]
     },
     "metadata": {},
     "output_type": "display_data"
    }
   ],
   "source": [
    "fig, axs = plt.subplots(1, 1, figsize = (5,4))\n",
    "axs.hist([ tran.forwardBarrier for conn in redecResults.connections for tran in conn.transitions ])\n"
   ]
  },
  {
   "cell_type": "code",
   "execution_count": null,
   "metadata": {},
   "outputs": [],
   "source": []
  }
 ],
 "metadata": {
  "kernelspec": {
   "display_name": "HDMPI",
   "language": "python",
   "name": "python3"
  },
  "language_info": {
   "codemirror_mode": {
    "name": "ipython",
    "version": 3
   },
   "file_extension": ".py",
   "mimetype": "text/x-python",
   "name": "python",
   "nbconvert_exporter": "python",
   "pygments_lexer": "ipython3",
   "version": "3.12.2"
  },
  "orig_nbformat": 4
 },
 "nbformat": 4,
 "nbformat_minor": 2
}
