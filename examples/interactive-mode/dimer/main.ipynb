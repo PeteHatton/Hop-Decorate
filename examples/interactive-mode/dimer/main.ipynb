{
 "cells": [
  {
   "attachments": {},
   "cell_type": "markdown",
   "metadata": {},
   "source": [
    "# Dimer Example Use"
   ]
  },
  {
   "cell_type": "code",
   "execution_count": 1,
   "metadata": {},
   "outputs": [],
   "source": [
    "# import relevent modules\n",
    "from HopDec import NEB\n",
    "from HopDec import Dimer\n",
    "from HopDec.State import *\n",
    "from HopDec.Input import *"
   ]
  },
  {
   "cell_type": "code",
   "execution_count": 2,
   "metadata": {},
   "outputs": [],
   "source": [
    "# Read the parameters from HopDec-config.xml\n",
    "params = getParams()"
   ]
  },
  {
   "cell_type": "code",
   "execution_count": 3,
   "metadata": {},
   "outputs": [],
   "source": [
    "# Read the initial and final NEB files from directory and create\n",
    "# State object containing their data\n",
    "# This is a divacancy in pure Cu\n",
    "initialState = readStateLAMMPSData('DV1.dat')"
   ]
  },
  {
   "cell_type": "code",
   "execution_count": 4,
   "metadata": {},
   "outputs": [
    {
     "name": "stdout",
     "output_type": "stream",
     "text": [
      "[19/05/24, 17:36:27]:   Lammps >> Minimizing. F Tol: 1e-05.\n",
      "[19/05/24, 17:36:27]: Lammps >> Completed Minimization, E: -894.9069 eV\n",
      "[19/05/24, 17:36:27]: Dimer >> Found saddle point, 0.6698984664855061 eV above inital position\n",
      "[19/05/24, 17:36:27]: Dimer >> Pushing saddle point into new minima\n",
      "[19/05/24, 17:36:27]:   Lammps >> Minimizing. F Tol: 1e-05.\n",
      "[19/05/24, 17:36:27]: Lammps >> Completed Minimization, E: -894.7822 eV\n"
     ]
    }
   ],
   "source": [
    "# main function for the dimer method. Note that we can either stop when we have found a saddle (pushSaddle = False)\n",
    "# Or we can push the saddle into the adjacent minima and store the resulting state (pushSaddle = True).\n",
    "\n",
    "dimerResults = Dimer.main(initialState, params, None, minimizeInput = True, pushSaddle = True, writeFile = False)"
   ]
  },
  {
   "cell_type": "code",
   "execution_count": 5,
   "metadata": {},
   "outputs": [
    {
     "name": "stdout",
     "output_type": "stream",
     "text": [
      "dimerResults.foundSaddle = 1\n",
      "dimerResults.saddleState = <HopDec.State.State object at 0x14ec76690>\n",
      "dimerResults.newMinimaState = <HopDec.State.State object at 0x12fc13770>\n"
     ]
    }
   ],
   "source": [
    "print(f'{dimerResults.foundSaddle = }') # check if we suceeded (yes = 1, no = 0)\n",
    "print(f'{dimerResults.saddleState = }') # State object for the saddle point which we found\n",
    "print(f'{dimerResults.newMinimaState = }') # State object for the new minima which we found\n"
   ]
  },
  {
   "cell_type": "code",
   "execution_count": null,
   "metadata": {},
   "outputs": [],
   "source": []
  }
 ],
 "metadata": {
  "kernelspec": {
   "display_name": "HD",
   "language": "python",
   "name": "python3"
  },
  "language_info": {
   "codemirror_mode": {
    "name": "ipython",
    "version": 3
   },
   "file_extension": ".py",
   "mimetype": "text/x-python",
   "name": "python",
   "nbconvert_exporter": "python",
   "pygments_lexer": "ipython3",
   "version": "3.12.2"
  },
  "orig_nbformat": 4
 },
 "nbformat": 4,
 "nbformat_minor": 2
}
