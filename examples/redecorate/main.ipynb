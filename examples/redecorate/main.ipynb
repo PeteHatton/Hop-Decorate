{
 "cells": [
  {
   "cell_type": "code",
   "execution_count": 3,
   "metadata": {},
   "outputs": [],
   "source": [
    "from ase.build import bulk, make_supercell\n",
    "import numpy as np\n",
    "\n",
    "from HopDec.ASE import *\n",
    "from HopDec.Input import *\n",
    "from HopDec.Lammps import *\n",
    "from HopDec.State import *\n",
    "\n",
    "import HopDec.Redecorate as Redecorate\n",
    "import HopDec.Dimer as Dimer\n",
    "import HopDec.Minimize as Minimize\n",
    "import HopDec.NEB as NEB\n",
    "import HopDec.MD as MD\n",
    "\n",
    "%matplotlib inline\n",
    "import matplotlib.pyplot as plt"
   ]
  },
  {
   "attachments": {},
   "cell_type": "markdown",
   "metadata": {},
   "source": [
    "# Generate Initial Structure (Vacancy in Pure Cu)"
   ]
  },
  {
   "cell_type": "code",
   "execution_count": 4,
   "metadata": {},
   "outputs": [],
   "source": [
    "# Generate simple ASE structure\n",
    "\n",
    "CuPrim = bulk('Cu', 'fcc', a=3.6, cubic=True)\n",
    "CuPrim.cell\n",
    "CuSuperCell = make_supercell(CuPrim, np.array([[5,0,0],[0,5,0],[0,0,5]]))"
   ]
  },
  {
   "cell_type": "code",
   "execution_count": 5,
   "metadata": {},
   "outputs": [],
   "source": [
    "# Create Vacancy in supercell\n",
    "\n",
    "del CuSuperCell[249]"
   ]
  },
  {
   "cell_type": "code",
   "execution_count": 6,
   "metadata": {},
   "outputs": [
    {
     "data": {
      "text/plain": [
       "Atoms(symbols='Cu499', pbc=True, cell=[18.0, 18.0, 18.0])"
      ]
     },
     "execution_count": 6,
     "metadata": {},
     "output_type": "execute_result"
    }
   ],
   "source": [
    "CuSuperCell"
   ]
  },
  {
   "attachments": {},
   "cell_type": "markdown",
   "metadata": {},
   "source": [
    "# Pass to Hop Dec"
   ]
  },
  {
   "cell_type": "code",
   "execution_count": 7,
   "metadata": {},
   "outputs": [],
   "source": [
    "params = getParams()"
   ]
  },
  {
   "cell_type": "code",
   "execution_count": 8,
   "metadata": {},
   "outputs": [
    {
     "data": {
      "text/plain": [
       "<HopDec.State.State at 0x11745d350>"
      ]
     },
     "execution_count": 8,
     "metadata": {},
     "output_type": "execute_result"
    }
   ],
   "source": [
    "# Initialize HopDec and transform ASE structure to State object\n",
    "\n",
    "ase = ASE(params)\n",
    "initialState = ase.toState(CuSuperCell)\n",
    "initialState"
   ]
  },
  {
   "cell_type": "code",
   "execution_count": 7,
   "metadata": {},
   "outputs": [
    {
     "data": {
      "text/plain": [
       "499"
      ]
     },
     "execution_count": 7,
     "metadata": {},
     "output_type": "execute_result"
    }
   ],
   "source": [
    "initialState.NAtoms"
   ]
  },
  {
   "cell_type": "code",
   "execution_count": null,
   "metadata": {},
   "outputs": [],
   "source": []
  },
  {
   "cell_type": "code",
   "execution_count": 9,
   "metadata": {},
   "outputs": [],
   "source": [
    "initialState.writeState('init.dat')"
   ]
  },
  {
   "cell_type": "code",
   "execution_count": 9,
   "metadata": {},
   "outputs": [
    {
     "name": "stdout",
     "output_type": "stream",
     "text": [
      "[21/02/24, 12:24:07]:   Lammps >> Minimizing. F Tol: 1e-05.\n",
      "[21/02/24, 12:24:07]: Lammps >> Completed Minimization, E: -1764.8919 eV\n"
     ]
    }
   ],
   "source": [
    "# mininize State in-place\n",
    "\n",
    "lmp = LammpsInterface(params)\n",
    "Minimize.main(initialState, lmp, params, verbose = True)"
   ]
  },
  {
   "cell_type": "code",
   "execution_count": 10,
   "metadata": {},
   "outputs": [],
   "source": [
    "initialState.writeState('0.dat')"
   ]
  },
  {
   "attachments": {},
   "cell_type": "markdown",
   "metadata": {},
   "source": [
    "# Find Transition"
   ]
  },
  {
   "cell_type": "code",
   "execution_count": 11,
   "metadata": {},
   "outputs": [
    {
     "name": "stdout",
     "output_type": "stream",
     "text": [
      "[21/02/24, 12:24:25]: MD >> Transition detected in state: \n"
     ]
    }
   ],
   "source": [
    "flag = 0\n",
    "while not flag:\n",
    "    _, newState, flag = MD.main(initialState, params)"
   ]
  },
  {
   "cell_type": "code",
   "execution_count": 13,
   "metadata": {},
   "outputs": [],
   "source": [
    "newState.writeState('1.dat')"
   ]
  },
  {
   "cell_type": "code",
   "execution_count": 14,
   "metadata": {},
   "outputs": [
    {
     "name": "stdout",
     "output_type": "stream",
     "text": [
      "[21/02/24, 12:25:03]: NEB >> Minimizing End Points\n",
      "[21/02/24, 12:25:03]:   Lammps >> Minimizing. F Tol: 1e-05.\n",
      "[21/02/24, 12:25:03]: Lammps >> Completed Minimization, E: -1764.8919 eV\n",
      "[21/02/24, 12:25:03]:   Lammps >> Minimizing. F Tol: 1e-05.\n",
      "[21/02/24, 12:25:03]: Lammps >> Completed Minimization, E: -1764.8919 eV\n",
      "[21/02/24, 12:25:03]: NEB >> Initializing ASE Structure\n",
      "[21/02/24, 12:25:03]: NEB >> Interpolating 11 images\n",
      "[21/02/24, 12:25:03]: NEB >> Performing NEB. Force Tol: 0.1, Transition:\n",
      "        ab2d71d992015e18300c2bc311585706 -> ab2d71d992015e18300c2bc311585706\n",
      "[21/02/24, 12:25:04]: NEB >> NEB finished Successfully. Extracting Results\n",
      "[21/02/24, 12:25:04]: NEB >> Checking NEB path for integrity\n",
      "[21/02/24, 12:25:04]: Transitions >> Results:\n",
      "\t    Forward Energy Barrier: 0.7411 eV, Rate at 1000 K: 1.364259e-04 1/s\n",
      "            Reverse Energy Barrer: 0.7411 eV, Rate at 1000 K: 1.364259e-04 1/s\n",
      "            KRA: 0.7411 eV\n",
      "            dE: -0.0 eV \n"
     ]
    }
   ],
   "source": [
    "\n",
    "connection = NEB.main(initialState, newState, params, exportStructures = True, plotPathways = True, verbose = True) # run a NEB between these two states"
   ]
  },
  {
   "cell_type": "code",
   "execution_count": 15,
   "metadata": {},
   "outputs": [
    {
     "data": {
      "text/plain": [
       "0.7411"
      ]
     },
     "execution_count": 15,
     "metadata": {},
     "output_type": "execute_result"
    }
   ],
   "source": [
    "connection.transitions[0].forwardBarrier"
   ]
  },
  {
   "attachments": {},
   "cell_type": "markdown",
   "metadata": {},
   "source": [
    "# Redecorate Transition"
   ]
  },
  {
   "cell_type": "code",
   "execution_count": 59,
   "metadata": {},
   "outputs": [
    {
     "name": "stdout",
     "output_type": "stream",
     "text": [
      "[21/02/24, 11:29:09]: Redecorate >> Starting NEB Redecoration Campaign\n",
      "[21/02/24, 11:29:09]:   Redecorate >> rank: 0: Redecoration: 1\n",
      "[21/02/24, 11:29:10]:   Redecorate >> rank: 0: Redecoration: 2\n"
     ]
    }
   ],
   "source": [
    "# Given that we have found a valid Connection / Transition.\n",
    "# We may want to run a redecoration campaign\n",
    "# This one will take the States defined and conduct 10 NEBS (controlled in config file) \n",
    "# with redecoration of the atoms as either Cu or Ni at 50:50 concentrations (controlled in config file).\n",
    "# Then return a results object\n",
    "params.nDecorations = 2\n",
    "redecResults = Redecorate.main(connection.transitions[0].initialState, connection.transitions[0].finalState, params, pickle = True)\n"
   ]
  },
  {
   "cell_type": "code",
   "execution_count": 24,
   "metadata": {},
   "outputs": [
    {
     "data": {
      "text/plain": [
       "2"
      ]
     },
     "execution_count": 24,
     "metadata": {},
     "output_type": "execute_result"
    }
   ],
   "source": [
    "# The redecoration results contains 10 'Connection'.\n",
    "# These 'connections' can be thought of as different decorations of the initial connection.\n",
    "\n",
    "len(redecResults.connections)"
   ]
  },
  {
   "cell_type": "code",
   "execution_count": 26,
   "metadata": {},
   "outputs": [
    {
     "data": {
      "text/plain": [
       "[0.5, 0.5]"
      ]
     },
     "execution_count": 26,
     "metadata": {},
     "output_type": "execute_result"
    }
   ],
   "source": [
    "params.concentration"
   ]
  },
  {
   "cell_type": "code",
   "execution_count": 60,
   "metadata": {},
   "outputs": [
    {
     "name": "stdout",
     "output_type": "stream",
     "text": [
      "[21/02/24, 11:29:18]: Redecorate >> Summary:\n",
      "\tConnection 1:\n",
      "\t\tTransition 1:\n",
      "\t\t\ttransition.KRA = 0.7426\n",
      "\t\t\ttransition.dE = -0.1553\n",
      "\tConnection 2:\n",
      "\t\tTransition 1:\n",
      "\t\t\ttransition.KRA = 0.8083\n",
      "\t\t\ttransition.dE = -0.0765\n"
     ]
    }
   ],
   "source": [
    "# So we can look at how the KRA and dE vary as a function of the specific decoration.\n",
    "# It may be the case that while the connection in the pure Cu case has one barrier.\n",
    "# a specific decoration of that transition is multi-barrier.\n",
    "# In that case, that decoration will have > 1 transition within it's connection object.\n",
    "\n",
    "redecResults.summarize()\n"
   ]
  },
  {
   "cell_type": "code",
   "execution_count": 61,
   "metadata": {},
   "outputs": [
    {
     "data": {
      "text/plain": [
       "<HopDec.State.State at 0x130a09f10>"
      ]
     },
     "execution_count": 61,
     "metadata": {},
     "output_type": "execute_result"
    }
   ],
   "source": [
    "# the results object also contains the States of the redecorations\n",
    "# In particular, this is the first redecoration and the first transition within that decoration.\n",
    "\n",
    "redecResults.connections[0].transitions[0].initialState\n",
    "redecResults.connections[0].transitions[0].finalState\n",
    "redecResults.connections[0].transitions[0].saddleState\n",
    "# redecResults.connections[0].transitions[0].initialState.type"
   ]
  },
  {
   "attachments": {},
   "cell_type": "markdown",
   "metadata": {},
   "source": [
    "# Calculate Barrier as a Function of Cu:Ni Ratio"
   ]
  },
  {
   "cell_type": "code",
   "execution_count": 64,
   "metadata": {},
   "outputs": [],
   "source": [
    "params = getParams()\n",
    "initialState = readStateLAMMPSData('0.dat')\n",
    "finalState = readStateLAMMPSData('1.dat')"
   ]
  },
  {
   "cell_type": "code",
   "execution_count": 65,
   "metadata": {},
   "outputs": [
    {
     "name": "stdout",
     "output_type": "stream",
     "text": [
      "[21/02/24, 11:32:03]:   Lammps >> Minimizing. F Tol: 1e-05.\n",
      "[21/02/24, 11:32:03]: Lammps >> Completed Minimization, E: -1764.8919 eV\n",
      "[21/02/24, 11:32:03]:   Lammps >> Minimizing. F Tol: 1e-05.\n",
      "[21/02/24, 11:32:03]: Lammps >> Completed Minimization, E: -1764.8919 eV\n"
     ]
    }
   ],
   "source": [
    "lmp = LammpsInterface(params)\n",
    "minDistInit = lmp.minimize(initialState, verbose = True)\n",
    "minDistFin = lmp.minimize(finalState, verbose = True)"
   ]
  },
  {
   "cell_type": "code",
   "execution_count": 66,
   "metadata": {},
   "outputs": [
    {
     "name": "stdout",
     "output_type": "stream",
     "text": [
      "Cu: 1, Ni: 0\n",
      "[21/02/24, 11:33:24]: Redecorate >> Starting NEB Redecoration Campaign\n",
      "[21/02/24, 11:33:24]:   Redecorate >> rank: 0: Redecoration: 1\n",
      "[21/02/24, 11:33:25]:   Redecorate >> rank: 0: Redecoration: 2\n",
      "[21/02/24, 11:33:26]:   Redecorate >> rank: 0: Redecoration: 3\n",
      "[21/02/24, 11:33:27]:   Redecorate >> rank: 0: Redecoration: 4\n",
      "[21/02/24, 11:33:28]:   Redecorate >> rank: 0: Redecoration: 5\n",
      "Cu: 0.75, Ni: 0.25\n",
      "[21/02/24, 11:33:28]: Redecorate >> Starting NEB Redecoration Campaign\n",
      "[21/02/24, 11:33:28]:   Redecorate >> rank: 0: Redecoration: 1\n",
      "[21/02/24, 11:33:29]:   Redecorate >> rank: 0: Redecoration: 2\n",
      "[21/02/24, 11:33:31]:   Redecorate >> rank: 0: Redecoration: 3\n",
      "[21/02/24, 11:33:32]:   Redecorate >> rank: 0: Redecoration: 4\n",
      "[21/02/24, 11:33:34]:   Redecorate >> rank: 0: Redecoration: 5\n",
      "Cu: 0.5, Ni: 0.5\n",
      "[21/02/24, 11:33:35]: Redecorate >> Starting NEB Redecoration Campaign\n",
      "[21/02/24, 11:33:35]:   Redecorate >> rank: 0: Redecoration: 1\n",
      "[21/02/24, 11:33:36]:   Redecorate >> rank: 0: Redecoration: 2\n",
      "[21/02/24, 11:33:38]:   Redecorate >> rank: 0: Redecoration: 3\n",
      "[21/02/24, 11:33:39]:   Redecorate >> rank: 0: Redecoration: 4\n",
      "[21/02/24, 11:33:40]:   Redecorate >> rank: 0: Redecoration: 5\n",
      "Cu: 0.25, Ni: 0.75\n",
      "[21/02/24, 11:33:42]: Redecorate >> Starting NEB Redecoration Campaign\n",
      "[21/02/24, 11:33:42]:   Redecorate >> rank: 0: Redecoration: 1\n",
      "[21/02/24, 11:33:43]:   Redecorate >> rank: 0: Redecoration: 2\n",
      "[21/02/24, 11:33:44]:   Redecorate >> rank: 0: Redecoration: 3\n",
      "[21/02/24, 11:33:45]:   Redecorate >> rank: 0: Redecoration: 4\n",
      "[21/02/24, 11:33:46]:   Redecorate >> rank: 0: Redecoration: 5\n",
      "Cu: 0, Ni: 1\n",
      "[21/02/24, 11:33:47]: Redecorate >> Starting NEB Redecoration Campaign\n",
      "[21/02/24, 11:33:47]:   Redecorate >> rank: 0: Redecoration: 1\n",
      "[21/02/24, 11:33:48]:   Redecorate >> rank: 0: Redecoration: 2\n",
      "[21/02/24, 11:33:49]:   Redecorate >> rank: 0: Redecoration: 3\n",
      "[21/02/24, 11:33:50]:   Redecorate >> rank: 0: Redecoration: 4\n",
      "[21/02/24, 11:33:51]:   Redecorate >> rank: 0: Redecoration: 5\n"
     ]
    }
   ],
   "source": [
    "# Cu_{x}Ni_{1-x}\n",
    "xVals = [1,0.75,0.5,0.25,0]\n",
    "results  = []\n",
    "for x in xVals:\n",
    "\n",
    "    print(f'Cu: {x}, Ni: {1-x}')\n",
    "\n",
    "    params.nDecorations = 5\n",
    "    params.activeSpecies = ['Cu','Ni']\n",
    "    params.staticSpecies = []\n",
    "    params.concentration = [x, 1-x]\n",
    "\n",
    "    Red = Redecorate.main(initialState, finalState, params , comm = None, pickle = True)\n",
    "\n",
    "    results.append(np.mean([ trans.forwardBarrier for conn in Red.connections for trans in conn.transitions  ]))"
   ]
  },
  {
   "cell_type": "code",
   "execution_count": 67,
   "metadata": {},
   "outputs": [
    {
     "data": {
      "image/png": "[encoded data removed]",
      "text/plain": [
       "<Figure size 500x300 with 1 Axes>"
      ]
     },
     "metadata": {},
     "output_type": "display_data"
    }
   ],
   "source": [
    "fig, axs = plt.subplots(1,1, figsize = (5,3))\n",
    "\n",
    "axs.scatter(xVals, results)\n",
    "axs.set_xlabel('Cu(x):Ni(1-x)')\n",
    "axs.set_ylabel('Energy Barrier (eV)')\n",
    "axs.set_ylim([0.6,1.3])\n",
    "\n",
    "axs.grid(True, linewidth=0.3)"
   ]
  },
  {
   "cell_type": "code",
   "execution_count": null,
   "metadata": {},
   "outputs": [],
   "source": []
  }
 ],
 "metadata": {
  "kernelspec": {
   "display_name": "HD",
   "language": "python",
   "name": "python3"
  },
  "language_info": {
   "codemirror_mode": {
    "name": "ipython",
    "version": 3
   },
   "file_extension": ".py",
   "mimetype": "text/x-python",
   "name": "python",
   "nbconvert_exporter": "python",
   "pygments_lexer": "ipython3",
   "version": "3.11.4"
  },
  "orig_nbformat": 4
 },
 "nbformat": 4,
 "nbformat_minor": 2
}
