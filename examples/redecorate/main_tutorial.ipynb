{
 "cells": [
  {
   "cell_type": "code",
   "execution_count": 1,
   "metadata": {},
   "outputs": [],
   "source": [
    "from HopDec.ASE import *\n",
    "from HopDec.Input import *\n",
    "from HopDec.Lammps import *\n",
    "from HopDec.State import *\n",
    "\n",
    "import HopDec.Redecorate as Redecorate\n",
    "import HopDec.Dimer as Dimer\n",
    "import HopDec.Minimize as Minimize\n",
    "import HopDec.NEB as NEB\n",
    "import HopDec.MD as MD\n",
    "\n",
    "import numpy as np\n",
    "\n",
    "%matplotlib inline\n",
    "import matplotlib.pyplot as plt"
   ]
  },
  {
   "attachments": {},
   "cell_type": "markdown",
   "metadata": {},
   "source": [
    "# Initialize Hop Dec"
   ]
  },
  {
   "cell_type": "code",
   "execution_count": 2,
   "metadata": {},
   "outputs": [],
   "source": [
    "params = getParams(inputParamFile='HopDec-config.xml')"
   ]
  },
  {
   "cell_type": "code",
   "execution_count": 6,
   "metadata": {},
   "outputs": [
    {
     "data": {
      "text/plain": [
       "1e-10"
      ]
     },
     "execution_count": 6,
     "metadata": {},
     "output_type": "execute_result"
    }
   ],
   "source": [
    "params.minimizationForceTolerance = 1e-10\n",
    "params.minimizationForceTolerance"
   ]
  },
  {
   "cell_type": "code",
   "execution_count": null,
   "metadata": {},
   "outputs": [],
   "source": []
  },
  {
   "cell_type": "code",
   "execution_count": 7,
   "metadata": {},
   "outputs": [],
   "source": [
    "initialState = readStateLAMMPSData('init.dat')"
   ]
  },
  {
   "cell_type": "code",
   "execution_count": 8,
   "metadata": {},
   "outputs": [
    {
     "data": {
      "text/plain": [
       "<HopDec.State.State at 0x135985150>"
      ]
     },
     "execution_count": 8,
     "metadata": {},
     "output_type": "execute_result"
    }
   ],
   "source": [
    "initialState"
   ]
  },
  {
   "cell_type": "code",
   "execution_count": 12,
   "metadata": {},
   "outputs": [
    {
     "data": {
      "text/plain": [
       "2"
      ]
     },
     "execution_count": 12,
     "metadata": {},
     "output_type": "execute_result"
    }
   ],
   "source": [
    "initialState.NSpecies"
   ]
  },
  {
   "cell_type": "code",
   "execution_count": null,
   "metadata": {},
   "outputs": [],
   "source": []
  },
  {
   "cell_type": "code",
   "execution_count": 13,
   "metadata": {},
   "outputs": [
    {
     "name": "stdout",
     "output_type": "stream",
     "text": [
      "[21/02/24, 15:43:36]:   Lammps >> Minimizing. F Tol: 1e-10.\n",
      "[21/02/24, 15:43:36]: Lammps >> Completed Minimization, E: -1764.8919 eV\n"
     ]
    }
   ],
   "source": [
    "# mininize State in-place\n",
    "params.minimizationForceTolerance=1e-10\n",
    "lmp = LammpsInterface(params)\n",
    "Minimize.main(initialState, lmp, params, verbose = True)"
   ]
  },
  {
   "cell_type": "code",
   "execution_count": 14,
   "metadata": {},
   "outputs": [
    {
     "data": {
      "text/plain": [
       "-1764.8918549520586"
      ]
     },
     "execution_count": 14,
     "metadata": {},
     "output_type": "execute_result"
    }
   ],
   "source": [
    "initialState.totalEnergy"
   ]
  },
  {
   "cell_type": "code",
   "execution_count": 15,
   "metadata": {},
   "outputs": [],
   "source": [
    "initialState.writeState('0.dat')"
   ]
  },
  {
   "attachments": {},
   "cell_type": "markdown",
   "metadata": {},
   "source": [
    "# Find Transition"
   ]
  },
  {
   "cell_type": "code",
   "execution_count": 16,
   "metadata": {},
   "outputs": [
    {
     "name": "stdout",
     "output_type": "stream",
     "text": [
      "[21/02/24, 15:45:01]: MD >> Transition detected in state: \n"
     ]
    }
   ],
   "source": [
    "flag = 0\n",
    "while not flag:\n",
    "    _, newState, flag = MD.main(initialState, params)"
   ]
  },
  {
   "cell_type": "code",
   "execution_count": 18,
   "metadata": {},
   "outputs": [
    {
     "data": {
      "text/plain": [
       "array([18.0004944 , 17.99688719, 17.99688719, ..., 16.2       ,\n",
       "       16.19639279, 14.39598637])"
      ]
     },
     "execution_count": 18,
     "metadata": {},
     "output_type": "execute_result"
    }
   ],
   "source": [
    "newState.pos"
   ]
  },
  {
   "cell_type": "code",
   "execution_count": 19,
   "metadata": {},
   "outputs": [],
   "source": [
    "newState.writeState('1.dat')"
   ]
  },
  {
   "cell_type": "code",
   "execution_count": 20,
   "metadata": {},
   "outputs": [
    {
     "name": "stdout",
     "output_type": "stream",
     "text": [
      "[21/02/24, 15:45:37]: NEB >> Minimizing End Points\n",
      "[21/02/24, 15:45:37]:   Lammps >> Minimizing. F Tol: 1e-10.\n",
      "[21/02/24, 15:45:37]: Lammps >> Completed Minimization, E: -1764.8919 eV\n",
      "[21/02/24, 15:45:37]:   Lammps >> Minimizing. F Tol: 1e-10.\n",
      "[21/02/24, 15:45:37]: Lammps >> Completed Minimization, E: -1764.8919 eV\n",
      "[21/02/24, 15:45:37]: NEB >> Initializing ASE Structure\n",
      "[21/02/24, 15:45:37]: NEB >> Interpolating 11 images\n",
      "[21/02/24, 15:45:37]: NEB >> Performing NEB. Force Tol: 0.1, Transition:\n",
      "        ab2d71d992015e18300c2bc311585706 -> ab2d71d992015e18300c2bc311585706\n",
      "[21/02/24, 15:45:38]: NEB >> NEB finished Successfully. Extracting Results\n",
      "[21/02/24, 15:45:38]: NEB >> Checking NEB path for integrity\n",
      "[21/02/24, 15:45:38]: Transitions >> Results:\n",
      "\t    Forward Energy Barrier: 0.7411 eV, Rate at 1000 K: 1.364259e-04 1/s\n",
      "            Reverse Energy Barrer: 0.7411 eV, Rate at 1000 K: 1.364259e-04 1/s\n",
      "            KRA: 0.7411 eV\n",
      "            dE: -0.0 eV \n"
     ]
    }
   ],
   "source": [
    "\n",
    "connection = NEB.main(initialState, newState, params, exportStructures = True, plotPathways = True, verbose = True) # run a NEB between these two states"
   ]
  },
  {
   "cell_type": "code",
   "execution_count": 33,
   "metadata": {},
   "outputs": [
    {
     "data": {
      "text/plain": [
       "0.7411"
      ]
     },
     "execution_count": 33,
     "metadata": {},
     "output_type": "execute_result"
    }
   ],
   "source": [
    "connection.transitions[0].forwardBarrier"
   ]
  },
  {
   "attachments": {},
   "cell_type": "markdown",
   "metadata": {},
   "source": [
    "# Redecorate Transition"
   ]
  },
  {
   "cell_type": "code",
   "execution_count": 21,
   "metadata": {},
   "outputs": [
    {
     "name": "stdout",
     "output_type": "stream",
     "text": [
      "[21/02/24, 15:46:42]: Redecorate >> Starting NEB Redecoration Campaign\n",
      "[21/02/24, 15:46:42]:   Redecorate >> rank: 0: Redecoration: 1\n",
      "[21/02/24, 15:46:44]:   Redecorate >> rank: 0: Redecoration: 2\n"
     ]
    }
   ],
   "source": [
    "# Given that we have found a valid Connection / Transition.\n",
    "# We may want to run a redecoration campaign\n",
    "# This one will take the States defined and conduct 10 NEBS (controlled in config file) \n",
    "# with redecoration of the atoms as either Cu or Ni at 50:50 concentrations (controlled in config file).\n",
    "# Then return a results object\n",
    "params.nDecorations = 2\n",
    "redecResults = Redecorate.main(connection.transitions[0].initialState, connection.transitions[0].finalState, params, pickle = True)\n"
   ]
  },
  {
   "cell_type": "code",
   "execution_count": 24,
   "metadata": {},
   "outputs": [
    {
     "data": {
      "text/plain": [
       "2"
      ]
     },
     "execution_count": 24,
     "metadata": {},
     "output_type": "execute_result"
    }
   ],
   "source": [
    "# The redecoration results contains 10 'Connection'.\n",
    "# These 'connections' can be thought of as different decorations of the initial connection.\n",
    "\n",
    "len(redecResults.connections)"
   ]
  },
  {
   "cell_type": "code",
   "execution_count": 26,
   "metadata": {},
   "outputs": [
    {
     "data": {
      "text/plain": [
       "[0.5, 0.5]"
      ]
     },
     "execution_count": 26,
     "metadata": {},
     "output_type": "execute_result"
    }
   ],
   "source": [
    "params.concentration"
   ]
  },
  {
   "cell_type": "code",
   "execution_count": 23,
   "metadata": {},
   "outputs": [
    {
     "name": "stdout",
     "output_type": "stream",
     "text": [
      "[21/02/24, 15:48:08]: Redecorate >> Summary:\n",
      "\tConnection 1:\n",
      "\t\tTransition 1:\n",
      "\t\t\ttransition.forwardBarrier = 0.9984\n",
      "\t\t\ttransition.dE = 0.2462\n",
      "\tConnection 2:\n",
      "\t\tTransition 1:\n",
      "\t\t\ttransition.forwardBarrier = 1.0903\n",
      "\t\t\ttransition.dE = 0.4501\n"
     ]
    }
   ],
   "source": [
    "# So we can look at how the KRA and dE vary as a function of the specific decoration.\n",
    "# It may be the case that while the connection in the pure Cu case has one barrier.\n",
    "# a specific decoration of that transition is multi-barrier.\n",
    "# In that case, that decoration will have > 1 transition within it's connection object.\n",
    "\n",
    "\n",
    "redecResults.summarize()\n"
   ]
  },
  {
   "cell_type": "code",
   "execution_count": 61,
   "metadata": {},
   "outputs": [
    {
     "data": {
      "text/plain": [
       "<HopDec.State.State at 0x130a09f10>"
      ]
     },
     "execution_count": 61,
     "metadata": {},
     "output_type": "execute_result"
    }
   ],
   "source": [
    "# the results object also contains the States of the redecorations\n",
    "# In particular, this is the first redecoration and the first transition within that decoration.\n",
    "\n",
    "redecResults.connections[0].transitions[0].initialState\n",
    "redecResults.connections[0].transitions[0].finalState\n",
    "redecResults.connections[0].transitions[0].saddleState\n",
    "# redecResults.connections[0].transitions[0].initialState.type"
   ]
  },
  {
   "attachments": {},
   "cell_type": "markdown",
   "metadata": {},
   "source": [
    "# Calculate Barrier as a Function of Cu:Ni Ratio"
   ]
  },
  {
   "cell_type": "code",
   "execution_count": 24,
   "metadata": {},
   "outputs": [],
   "source": [
    "params = getParams()\n",
    "initialState = readStateLAMMPSData('0.dat')\n",
    "finalState = readStateLAMMPSData('1.dat')"
   ]
  },
  {
   "cell_type": "code",
   "execution_count": 25,
   "metadata": {},
   "outputs": [
    {
     "name": "stdout",
     "output_type": "stream",
     "text": [
      "[21/02/24, 15:49:17]:   Lammps >> Minimizing. F Tol: 1e-05.\n",
      "[21/02/24, 15:49:17]: Lammps >> Completed Minimization, E: -1764.8919 eV\n",
      "[21/02/24, 15:49:17]:   Lammps >> Minimizing. F Tol: 1e-05.\n",
      "[21/02/24, 15:49:17]: Lammps >> Completed Minimization, E: -1764.8919 eV\n"
     ]
    }
   ],
   "source": [
    "lmp = LammpsInterface(params)\n",
    "minDistInit = lmp.minimize(initialState, verbose = True)\n",
    "minDistFin = lmp.minimize(finalState, verbose = True)"
   ]
  },
  {
   "cell_type": "code",
   "execution_count": 26,
   "metadata": {},
   "outputs": [
    {
     "name": "stdout",
     "output_type": "stream",
     "text": [
      "Cu: 1, Ni: 0\n",
      "[21/02/24, 15:50:33]: Redecorate >> Starting NEB Redecoration Campaign\n",
      "[21/02/24, 15:50:33]:   Redecorate >> rank: 0: Redecoration: 1\n",
      "[21/02/24, 15:50:34]:   Redecorate >> rank: 0: Redecoration: 2\n",
      "[21/02/24, 15:50:36]:   Redecorate >> rank: 0: Redecoration: 3\n",
      "Cu: 0.75, Ni: 0.25\n",
      "[21/02/24, 15:50:37]: Redecorate >> Starting NEB Redecoration Campaign\n",
      "[21/02/24, 15:50:37]:   Redecorate >> rank: 0: Redecoration: 1\n",
      "[21/02/24, 15:50:39]:   Redecorate >> rank: 0: Redecoration: 2\n",
      "[21/02/24, 15:50:41]:   Redecorate >> rank: 0: Redecoration: 3\n",
      "Cu: 0.5, Ni: 0.5\n",
      "[21/02/24, 15:50:43]: Redecorate >> Starting NEB Redecoration Campaign\n",
      "[21/02/24, 15:50:43]:   Redecorate >> rank: 0: Redecoration: 1\n",
      "[21/02/24, 15:50:45]:   Redecorate >> rank: 0: Redecoration: 2\n",
      "[21/02/24, 15:50:47]:   Redecorate >> rank: 0: Redecoration: 3\n",
      "Cu: 0.25, Ni: 0.75\n",
      "[21/02/24, 15:50:49]: Redecorate >> Starting NEB Redecoration Campaign\n",
      "[21/02/24, 15:50:49]:   Redecorate >> rank: 0: Redecoration: 1\n",
      "[21/02/24, 15:50:51]:   Redecorate >> rank: 0: Redecoration: 2\n",
      "[21/02/24, 15:50:54]:   Redecorate >> rank: 0: Redecoration: 3\n",
      "Cu: 0, Ni: 1\n",
      "[21/02/24, 15:50:56]: Redecorate >> Starting NEB Redecoration Campaign\n",
      "[21/02/24, 15:50:56]:   Redecorate >> rank: 0: Redecoration: 1\n",
      "[21/02/24, 15:50:58]:   Redecorate >> rank: 0: Redecoration: 2\n",
      "[21/02/24, 15:50:59]:   Redecorate >> rank: 0: Redecoration: 3\n"
     ]
    }
   ],
   "source": [
    "# Cu_{x}Ni_{1-x}\n",
    "xVals = [1,0.75,0.5,0.25,0]\n",
    "results  = []\n",
    "for x in xVals:\n",
    "\n",
    "    print(f'Cu: {x}, Ni: {1-x}')\n",
    "    \n",
    "    params.nDecorations = 3\n",
    "    params.activeSpecies = ['Cu','Ni']\n",
    "    params.staticSpecies = []\n",
    "    params.concentration = [x, 1-x]\n",
    "\n",
    "    Red = Redecorate.main(initialState, finalState, params , comm = None, pickle = True)\n",
    "\n",
    "    results.append(np.mean([ trans.forwardBarrier for conn in Red.connections for trans in conn.transitions  ]))"
   ]
  },
  {
   "cell_type": "code",
   "execution_count": 27,
   "metadata": {},
   "outputs": [
    {
     "data": {
      "image/png": "[encoded data removed]",
      "text/plain": [
       "<Figure size 500x300 with 1 Axes>"
      ]
     },
     "metadata": {},
     "output_type": "display_data"
    }
   ],
   "source": [
    "fig, axs = plt.subplots(1,1, figsize = (5,3))\n",
    "\n",
    "axs.scatter(xVals, results)\n",
    "axs.set_xlabel('Cu(x):Ni(1-x)')\n",
    "axs.set_ylabel('Energy Barrier (eV)')\n",
    "axs.set_ylim([0.6,1.3])\n",
    "\n",
    "axs.grid(True, linewidth=0.3)"
   ]
  },
  {
   "cell_type": "code",
   "execution_count": null,
   "metadata": {},
   "outputs": [],
   "source": []
  }
 ],
 "metadata": {
  "kernelspec": {
   "display_name": "HD",
   "language": "python",
   "name": "python3"
  },
  "language_info": {
   "codemirror_mode": {
    "name": "ipython",
    "version": 3
   },
   "file_extension": ".py",
   "mimetype": "text/x-python",
   "name": "python",
   "nbconvert_exporter": "python",
   "pygments_lexer": "ipython3",
   "version": "3.11.4"
  },
  "orig_nbformat": 4
 },
 "nbformat": 4,
 "nbformat_minor": 2
}
