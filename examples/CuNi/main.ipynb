{
 "cells": [
  {
   "attachments": {},
   "cell_type": "markdown",
   "metadata": {},
   "source": [
    "# COMMAND LINE EXAMPLE"
   ]
  },
  {
   "cell_type": "code",
   "execution_count": 1,
   "metadata": {},
   "outputs": [
    {
     "name": "stdout",
     "output_type": "stream",
     "text": [
      "=============================================================================================\n",
      "================================== Hop + Decorate Prototype =================================\n",
      "=============================================================================================\n",
      "[17/02/24, 16:25:44]: HopDec >> Running: Minimize\n",
      "[17/02/24, 16:25:44]:   Lammps >> Minimizing. F Tol: 1e-05.\n",
      "[17/02/24, 16:25:44]: Lammps >> Completed Minimization, E: -899.4873 eV\n",
      "[17/02/24, 16:25:44]:     Minimize >> Minimized state is stored at: IV1_Min.dat\n",
      "[17/02/24, 16:25:44]: HopDec >> Finishing: Minimize\n",
      "=============================================================================================\n",
      "=========================================== Fin. ============================================\n",
      "=============================================================================================\n"
     ]
    }
   ],
   "source": [
    "!HopDec.py Minimize input/IV1.dat IV1_Min.dat"
   ]
  },
  {
   "cell_type": "code",
   "execution_count": 2,
   "metadata": {},
   "outputs": [
    {
     "name": "stdout",
     "output_type": "stream",
     "text": [
      "=============================================================================================\n",
      "================================== Hop + Decorate Prototype =================================\n",
      "=============================================================================================\n",
      "[17/02/24, 16:25:48]: HopDec >> Running: Dimer\n",
      "[17/02/24, 16:25:48]:   Lammps >> Minimizing. F Tol: 1e-05.\n",
      "[17/02/24, 16:25:48]: Lammps >> Completed Minimization, E: -899.4873 eV\n",
      "[17/02/24, 16:25:49]: Dimer >> Found saddle point, 0.6842086979103215 eV above inital position\n",
      "[17/02/24, 16:25:49]: Dimer >> Pushing saddle point into new minima\n",
      "[17/02/24, 16:25:49]:   Lammps >> Minimizing. F Tol: 1e-05.\n",
      "[17/02/24, 16:25:49]: Lammps >> Completed Minimization, E: -899.4873 eV\n",
      "[17/02/24, 16:25:49]: Dimer >> Writing file to IV2.dat\n",
      "[17/02/24, 16:25:49]: HopDec >> Finishing: Dimer\n",
      "=============================================================================================\n",
      "=========================================== Fin. ============================================\n",
      "=============================================================================================\n"
     ]
    }
   ],
   "source": [
    "!HopDec.py Dimer IV1_Min.dat IV2.dat -d -m -p"
   ]
  },
  {
   "cell_type": "code",
   "execution_count": 3,
   "metadata": {},
   "outputs": [
    {
     "name": "stdout",
     "output_type": "stream",
     "text": [
      "=============================================================================================\n",
      "================================== Hop + Decorate Prototype =================================\n",
      "=============================================================================================\n",
      "[17/02/24, 16:25:52]: HopDec >> Running: Minimize\n",
      "[17/02/24, 16:25:53]:   Lammps >> Minimizing. F Tol: 1e-05.\n",
      "[17/02/24, 16:25:53]: Lammps >> Completed Minimization, E: -899.4873 eV\n",
      "[17/02/24, 16:25:53]:     Minimize >> Minimized state is stored at: IV2_Min.dat\n",
      "[17/02/24, 16:25:53]: HopDec >> Finishing: Minimize\n",
      "=============================================================================================\n",
      "=========================================== Fin. ============================================\n",
      "=============================================================================================\n"
     ]
    }
   ],
   "source": [
    "!HopDec.py Minimize IV2.dat IV2_Min.dat"
   ]
  },
  {
   "cell_type": "code",
   "execution_count": 4,
   "metadata": {},
   "outputs": [
    {
     "name": "stdout",
     "output_type": "stream",
     "text": [
      "=============================================================================================\n",
      "================================== Hop + Decorate Prototype =================================\n",
      "=============================================================================================\n",
      "[17/02/24, 16:25:56]: HopDec >> Running: NEB\n",
      "[17/02/24, 16:25:56]: NEB >> Minimizing End Points\n",
      "[17/02/24, 16:25:57]:   Lammps >> Minimizing. F Tol: 1e-05.\n",
      "[17/02/24, 16:25:57]: Lammps >> Completed Minimization, E: -899.4873 eV\n",
      "[17/02/24, 16:25:57]:   Lammps >> Minimizing. F Tol: 1e-05.\n",
      "[17/02/24, 16:25:57]: Lammps >> Completed Minimization, E: -899.4873 eV\n",
      "[17/02/24, 16:25:57]: NEB >> Initializing ASE Structure\n",
      "[17/02/24, 16:25:57]: NEB >> Interpolating 11 images\n",
      "[17/02/24, 16:25:57]: NEB >> Performing NEB. Force Tol: 0.1, Transition:\n",
      "        8cd19cc52f4307b328bc83a1dc5eee5f -> 8cd19cc52f4307b328bc83a1dc5eee5f\n",
      "[17/02/24, 16:25:57]: NEB >> NEB finished Successfully. Extracting Results\n",
      "[17/02/24, 16:25:57]: NEB >> Checking NEB path for integrity\n",
      "[17/02/24, 16:25:57]: Transitions >> Results:\n",
      "\t    Forward Energy Barrier: 0.5272 eV, Rate at 1000 K: 1.161460e-03 1/s\n",
      "            Reverse Energy Barrer: 0.5272 eV, Rate at 1000 K: 1.161460e-03 1/s\n",
      "            KRA: 0.5272 eV\n",
      "            dE: -0.0 eV \n",
      "[17/02/24, 16:25:57]: NEB >> Completed 1 NEBs!\n",
      "[17/02/24, 16:25:57]: HopDec >> Finishing: NEB\n",
      "=============================================================================================\n",
      "=========================================== Fin. ============================================\n",
      "=============================================================================================\n"
     ]
    }
   ],
   "source": [
    "!HopDec.py NEB IV1_Min.dat IV2_Min.dat -p"
   ]
  },
  {
   "cell_type": "markdown",
   "metadata": {},
   "source": []
  },
  {
   "cell_type": "markdown",
   "metadata": {},
   "source": []
  }
 ],
 "metadata": {
  "kernelspec": {
   "display_name": "HD",
   "language": "python",
   "name": "python3"
  },
  "language_info": {
   "codemirror_mode": {
    "name": "ipython",
    "version": 3
   },
   "file_extension": ".py",
   "mimetype": "text/x-python",
   "name": "python",
   "nbconvert_exporter": "python",
   "pygments_lexer": "ipython3",
   "version": "3.11.4"
  },
  "orig_nbformat": 4
 },
 "nbformat": 4,
 "nbformat_minor": 2
}
