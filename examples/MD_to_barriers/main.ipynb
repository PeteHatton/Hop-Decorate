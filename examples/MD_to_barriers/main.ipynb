{
 "cells": [
  {
   "cell_type": "code",
   "execution_count": 15,
   "metadata": {},
   "outputs": [],
   "source": [
    "from HopDec.State import readStateLAMMPSDump\n",
    "from HopDec.Input import getParams\n",
    "from HopDec.Lammps import *\n",
    "import HopDec.NEB as neb\n",
    "import HopDec.Redecorate as red\n",
    "\n",
    "%matplotlib inline\n",
    "import matplotlib.pyplot as plt"
   ]
  },
  {
   "cell_type": "code",
   "execution_count": 11,
   "metadata": {},
   "outputs": [],
   "source": [
    "params = getParams()"
   ]
  },
  {
   "cell_type": "code",
   "execution_count": 3,
   "metadata": {},
   "outputs": [
    {
     "data": {
      "text/plain": [
       "[<HopDec.State.State at 0x12afb9210>,\n",
       " <HopDec.State.State at 0x113cf3250>,\n",
       " <HopDec.State.State at 0x12b42c650>,\n",
       " <HopDec.State.State at 0x12b42fe50>,\n",
       " <HopDec.State.State at 0x12b42c790>,\n",
       " <HopDec.State.State at 0x12b42ca10>]"
      ]
     },
     "execution_count": 3,
     "metadata": {},
     "output_type": "execute_result"
    }
   ],
   "source": [
    "# load all frames of the dump as State objects\n",
    "states = readStateLAMMPSDump('example.dump',params)\n",
    "states"
   ]
  },
  {
   "cell_type": "code",
   "execution_count": 4,
   "metadata": {},
   "outputs": [
    {
     "name": "stdout",
     "output_type": "stream",
     "text": [
      "[20/02/24, 09:49:27]:   Lammps >> Minimizing. F Tol: 1e-05.\n",
      "[20/02/24, 09:49:28]: Lammps >> Completed Minimization, E: -8530.9586 eV\n",
      "[20/02/24, 09:49:28]:   Lammps >> Minimizing. F Tol: 1e-05.\n",
      "[20/02/24, 09:49:30]: Lammps >> Completed Minimization, E: -8531.7104 eV\n",
      "[20/02/24, 09:49:30]: NEB >> Minimizing End Points\n",
      "[20/02/24, 09:49:30]:   Lammps >> Minimizing. F Tol: 1e-05.\n",
      "[20/02/24, 09:49:30]: Lammps >> Completed Minimization, E: -8530.9586 eV\n",
      "[20/02/24, 09:49:30]:   Lammps >> Minimizing. F Tol: 1e-05.\n",
      "[20/02/24, 09:49:30]: Lammps >> Completed Minimization, E: -8531.7104 eV\n",
      "[20/02/24, 09:49:47]: NEB >> Initializing ASE Structure\n",
      "[20/02/24, 09:49:47]: NEB >> Interpolating 11 images\n",
      "[20/02/24, 09:49:47]: NEB >> Performing NEB. Force Tol: 0.1, Transition:\n",
      "        b1e75ab224126967075347cd7c90a396 -> 6b8fcd35b7e71e8ae115677a46e6500f\n",
      "[20/02/24, 09:50:07]: NEB >> NEB finished Successfully. Extracting Results\n",
      "[20/02/24, 09:50:07]: NEB >> Checking NEB path for integrity\n",
      "[20/02/24, 09:50:07]: NEB >> Minimizing End Points\n",
      "[20/02/24, 09:50:07]:   Lammps >> Minimizing. F Tol: 1e-05.\n",
      "[20/02/24, 09:50:07]: Lammps >> Completed Minimization, E: -8530.9586 eV\n",
      "[20/02/24, 09:50:08]:   Lammps >> Minimizing. F Tol: 1e-05.\n",
      "[20/02/24, 09:50:08]: Lammps >> Completed Minimization, E: -8531.5044 eV\n",
      "[20/02/24, 09:50:27]: NEB >> Initializing ASE Structure\n",
      "[20/02/24, 09:50:27]: NEB >> Interpolating 11 images\n",
      "[20/02/24, 09:50:27]: NEB >> Performing NEB. Force Tol: 0.1, Transition:\n",
      "        b1e75ab224126967075347cd7c90a396 -> 2adc6694ce56c73b0673a43540c9a3af\n",
      "[20/02/24, 09:50:35]: NEB >> NEB finished Successfully. Extracting Results\n",
      "[20/02/24, 09:50:35]: NEB >> Checking NEB path for integrity\n",
      "[20/02/24, 09:50:38]: Transitions >> Results:\n",
      "\t    Forward Energy Barrier: 0.1706 eV, Rate at 1000 K: 2.356095e-02 1/s\n",
      "            Reverse Energy Barrer: 0.7163 eV, Rate at 1000 K: 9.892560e-02 1/s\n",
      "            KRA: 0.4434 eV\n",
      "            dE: -0.5458 eV \n",
      "[20/02/24, 09:50:38]: NEB >> Minimizing End Points\n",
      "[20/02/24, 09:50:38]:   Lammps >> Minimizing. F Tol: 1e-05.\n",
      "[20/02/24, 09:50:39]: Lammps >> Completed Minimization, E: -8531.5044 eV\n",
      "[20/02/24, 09:50:39]:   Lammps >> Minimizing. F Tol: 1e-05.\n",
      "[20/02/24, 09:50:39]: Lammps >> Completed Minimization, E: -8531.7104 eV\n",
      "[20/02/24, 09:50:56]: NEB >> Initializing ASE Structure\n",
      "[20/02/24, 09:50:56]: NEB >> Interpolating 11 images\n",
      "[20/02/24, 09:50:56]: NEB >> Performing NEB. Force Tol: 0.1, Transition:\n",
      "        2adc6694ce56c73b0673a43540c9a3af -> 6b8fcd35b7e71e8ae115677a46e6500f\n",
      "[20/02/24, 09:51:12]: NEB >> NEB finished Successfully. Extracting Results\n",
      "[20/02/24, 09:51:12]: NEB >> Checking NEB path for integrity\n",
      "[20/02/24, 09:51:15]: Transitions >> Results:\n",
      "\t    Forward Energy Barrier: 0.3546 eV, Rate at 1000 K: 5.789395e-03 1/s\n",
      "            Reverse Energy Barrer: 0.5606 eV, Rate at 1000 K: 9.152665e-03 1/s\n",
      "            KRA: 0.4576 eV\n",
      "            dE: -0.206 eV \n",
      "Completed Frame 0->1\n",
      "[20/02/24, 09:51:15]:   Lammps >> Minimizing. F Tol: 1e-05.\n",
      "[20/02/24, 09:51:15]: Lammps >> Completed Minimization, E: -8531.7104 eV\n",
      "[20/02/24, 09:51:15]:   Lammps >> Minimizing. F Tol: 1e-05.\n",
      "[20/02/24, 09:51:16]: Lammps >> Completed Minimization, E: -8531.7104 eV\n",
      "[20/02/24, 09:51:16]: NEB >> Minimizing End Points\n",
      "[20/02/24, 09:51:17]:   Lammps >> Minimizing. F Tol: 1e-05.\n",
      "[20/02/24, 09:51:17]: Lammps >> Completed Minimization, E: -8531.7104 eV\n",
      "[20/02/24, 09:51:17]:   Lammps >> Minimizing. F Tol: 1e-05.\n",
      "[20/02/24, 09:51:17]: Lammps >> Completed Minimization, E: -8531.7104 eV\n",
      "[20/02/24, 09:51:17]: NEB >> WARNING. Initial and Final Structures are the Same. Skipping...\n",
      "Completed Frame 1->2\n",
      "[20/02/24, 09:51:17]:   Lammps >> Minimizing. F Tol: 1e-05.\n",
      "[20/02/24, 09:51:17]: Lammps >> Completed Minimization, E: -8531.7104 eV\n",
      "[20/02/24, 09:51:17]:   Lammps >> Minimizing. F Tol: 1e-05.\n",
      "[20/02/24, 09:51:19]: Lammps >> Completed Minimization, E: -8531.5044 eV\n",
      "[20/02/24, 09:51:19]: NEB >> Minimizing End Points\n",
      "[20/02/24, 09:51:19]:   Lammps >> Minimizing. F Tol: 1e-05.\n",
      "[20/02/24, 09:51:19]: Lammps >> Completed Minimization, E: -8531.7104 eV\n",
      "[20/02/24, 09:51:19]:   Lammps >> Minimizing. F Tol: 1e-05.\n",
      "[20/02/24, 09:51:19]: Lammps >> Completed Minimization, E: -8531.5044 eV\n",
      "[20/02/24, 09:51:36]: NEB >> Initializing ASE Structure\n",
      "[20/02/24, 09:51:36]: NEB >> Interpolating 11 images\n",
      "[20/02/24, 09:51:36]: NEB >> Performing NEB. Force Tol: 0.1, Transition:\n",
      "        6b8fcd35b7e71e8ae115677a46e6500f -> 2adc6694ce56c73b0673a43540c9a3af\n",
      "[20/02/24, 09:51:44]: NEB >> NEB finished Successfully. Extracting Results\n",
      "[20/02/24, 09:51:44]: NEB >> Checking NEB path for integrity\n",
      "[20/02/24, 09:51:46]: Transitions >> Results:\n",
      "\t    Forward Energy Barrier: 0.5306 eV, Rate at 1000 K: 1.123727e-03 1/s\n",
      "            Reverse Energy Barrer: 0.3246 eV, Rate at 1000 K: 6.874513e-04 1/s\n",
      "            KRA: 0.4276 eV\n",
      "            dE: 0.206 eV \n",
      "Completed Frame 2->3\n",
      "[20/02/24, 09:51:47]:   Lammps >> Minimizing. F Tol: 1e-05.\n",
      "[20/02/24, 09:51:47]: Lammps >> Completed Minimization, E: -8531.5044 eV\n",
      "[20/02/24, 09:51:47]:   Lammps >> Minimizing. F Tol: 1e-05.\n",
      "[20/02/24, 09:51:48]: Lammps >> Completed Minimization, E: -8531.5044 eV\n",
      "[20/02/24, 09:51:48]: NEB >> Minimizing End Points\n",
      "[20/02/24, 09:51:48]:   Lammps >> Minimizing. F Tol: 1e-05.\n",
      "[20/02/24, 09:51:48]: Lammps >> Completed Minimization, E: -8531.5044 eV\n",
      "[20/02/24, 09:51:48]:   Lammps >> Minimizing. F Tol: 1e-05.\n",
      "[20/02/24, 09:51:48]: Lammps >> Completed Minimization, E: -8531.5044 eV\n",
      "[20/02/24, 09:51:48]: NEB >> WARNING. Initial and Final Structures are the Same. Skipping...\n",
      "Completed Frame 3->4\n",
      "[20/02/24, 09:51:49]:   Lammps >> Minimizing. F Tol: 1e-05.\n",
      "[20/02/24, 09:51:49]: Lammps >> Completed Minimization, E: -8531.5044 eV\n",
      "[20/02/24, 09:51:49]:   Lammps >> Minimizing. F Tol: 1e-05.\n",
      "[20/02/24, 09:51:50]: Lammps >> Completed Minimization, E: -8531.5044 eV\n",
      "[20/02/24, 09:51:50]: NEB >> Minimizing End Points\n",
      "[20/02/24, 09:51:50]:   Lammps >> Minimizing. F Tol: 1e-05.\n",
      "[20/02/24, 09:51:50]: Lammps >> Completed Minimization, E: -8531.5044 eV\n",
      "[20/02/24, 09:51:51]:   Lammps >> Minimizing. F Tol: 1e-05.\n",
      "[20/02/24, 09:51:51]: Lammps >> Completed Minimization, E: -8531.5044 eV\n",
      "[20/02/24, 09:51:51]: NEB >> WARNING. Initial and Final Structures are the Same. Skipping...\n",
      "Completed Frame 4->5\n"
     ]
    }
   ],
   "source": [
    "connectionList = []\n",
    "for i in range(len(states) - 1):\n",
    "    \n",
    "    init = states[i]\n",
    "    fin = states[i+1]\n",
    "\n",
    "    lmp = LammpsInterface(params)\n",
    "    lmp.minimize(init, verbose = True)\n",
    "    lmp.minimize(fin, verbose = True)\n",
    "\n",
    "    connection = neb.main(init, fin, params, verbose = True)\n",
    "\n",
    "    print(f'Completed Frame {i}->{i+1}')\n",
    "\n",
    "    connectionList.append(connection)"
   ]
  },
  {
   "cell_type": "code",
   "execution_count": 5,
   "metadata": {},
   "outputs": [],
   "source": [
    "for c,connection in enumerate(connectionList):\n",
    "    connection.exportStructures(folder = f'connection_{c}')"
   ]
  },
  {
   "cell_type": "code",
   "execution_count": 6,
   "metadata": {},
   "outputs": [
    {
     "data": {
      "text/plain": [
       "0.1706"
      ]
     },
     "execution_count": 6,
     "metadata": {},
     "output_type": "execute_result"
    }
   ],
   "source": [
    "connectionList[0].transitions[0].forwardBarrier"
   ]
  },
  {
   "cell_type": "code",
   "execution_count": 12,
   "metadata": {},
   "outputs": [
    {
     "name": "stdout",
     "output_type": "stream",
     "text": [
      "[20/02/24, 10:19:00]: Redecorate >> Starting NEB Redecoration Campaign\n",
      "[20/02/24, 10:19:00]:   Redecorate >> rank: 0: Redecoration: 1\n",
      "[20/02/24, 10:19:38]:   Redecorate >> rank: 0: Redecoration: 2\n",
      "[20/02/24, 10:20:10]:   Redecorate >> rank: 0: Redecoration: 3\n",
      "[20/02/24, 10:20:42]:   Redecorate >> rank: 0: Redecoration: 4\n",
      "[20/02/24, 10:22:54]:   Redecorate >> rank: 0: Redecoration: 5\n",
      "[20/02/24, 10:23:24]:   Redecorate >> rank: 0: Redecoration: 6\n",
      "[20/02/24, 10:23:56]:   Redecorate >> rank: 0: Redecoration: 7\n",
      "[20/02/24, 10:24:26]:   Redecorate >> rank: 0: Redecoration: 8\n",
      "[20/02/24, 10:25:01]:   Redecorate >> rank: 0: Redecoration: 9\n",
      "[20/02/24, 10:25:32]:   Redecorate >> rank: 0: Redecoration: 10\n"
     ]
    }
   ],
   "source": [
    "redecResults = red.main(connectionList[0].transitions[0].initialState, connectionList[0].transitions[0].finalState, params, pickle = False)"
   ]
  },
  {
   "cell_type": "code",
   "execution_count": 13,
   "metadata": {},
   "outputs": [
    {
     "name": "stdout",
     "output_type": "stream",
     "text": [
      "[20/02/24, 10:26:03]: Redecorate >> Summary:\n",
      "\tConnection 1:\n",
      "\t\tTransition 1:\n",
      "\t\t\ttransition.KRA = 0.2825\n",
      "\t\t\ttransition.dE = 0.3892\n",
      "\tConnection 2:\n",
      "\t\tTransition 1:\n",
      "\t\t\ttransition.KRA = 0.3572\n",
      "\t\t\ttransition.dE = 0.2251\n",
      "\tConnection 3:\n",
      "\t\tTransition 1:\n",
      "\t\t\ttransition.KRA = 0.1368\n",
      "\t\t\ttransition.dE = -0.1373\n",
      "\tConnection 4:\n",
      "\t\tTransition 1:\n",
      "\t\t\ttransition.KRA = 0.4744\n",
      "\t\t\ttransition.dE = -0.4935\n",
      "\t\tTransition 2:\n",
      "\t\t\ttransition.KRA = 0.553\n",
      "\t\t\ttransition.dE = 0.0387\n",
      "\t\tTransition 3:\n",
      "\t\t\ttransition.KRA = 0.5324\n",
      "\t\t\ttransition.dE = 0.4511\n",
      "\tConnection 5:\n",
      "\t\tTransition 1:\n",
      "\t\t\ttransition.KRA = 0.3058\n",
      "\t\t\ttransition.dE = 0.3811\n",
      "\tConnection 6:\n",
      "\t\tTransition 1:\n",
      "\t\t\ttransition.KRA = 0.2979\n",
      "\t\t\ttransition.dE = 0.335\n",
      "\tConnection 7:\n",
      "\t\tTransition 1:\n",
      "\t\t\ttransition.KRA = 0.237\n",
      "\t\t\ttransition.dE = 0.0525\n",
      "\tConnection 8:\n",
      "\t\tTransition 1:\n",
      "\t\t\ttransition.KRA = 0.1182\n",
      "\t\t\ttransition.dE = -0.1103\n",
      "\tConnection 9:\n",
      "\t\tTransition 1:\n",
      "\t\t\ttransition.KRA = 0.2768\n",
      "\t\t\ttransition.dE = -0.4678\n",
      "\tConnection 10:\n",
      "\t\tTransition 1:\n",
      "\t\t\ttransition.KRA = 0.2909\n",
      "\t\t\ttransition.dE = 0.5607\n"
     ]
    }
   ],
   "source": [
    "redecResults.summarize()"
   ]
  },
  {
   "cell_type": "code",
   "execution_count": 18,
   "metadata": {},
   "outputs": [
    {
     "data": {
      "text/plain": [
       "(array([3., 0., 1., 1., 0., 2., 2., 2., 0., 1.]),\n",
       " array([0.0429, 0.1144, 0.1859, 0.2574, 0.3289, 0.4004, 0.4719, 0.5434,\n",
       "        0.6149, 0.6864, 0.7579]),\n",
       " <BarContainer object of 10 artists>)"
      ]
     },
     "execution_count": 18,
     "metadata": {},
     "output_type": "execute_result"
    },
    {
     "data": {
      "image/png": "[encoded data removed]",
      "text/plain": [
       "<Figure size 500x400 with 1 Axes>"
      ]
     },
     "metadata": {},
     "output_type": "display_data"
    }
   ],
   "source": [
    "fig, axs = plt.subplots(1, 1, figsize = (5,4))\n",
    "axs.hist([ tran.forwardBarrier for conn in redecResults.connections for tran in conn.transitions ])\n"
   ]
  },
  {
   "cell_type": "code",
   "execution_count": null,
   "metadata": {},
   "outputs": [],
   "source": []
  }
 ],
 "metadata": {
  "kernelspec": {
   "display_name": "HDMPI",
   "language": "python",
   "name": "python3"
  },
  "language_info": {
   "codemirror_mode": {
    "name": "ipython",
    "version": 3
   },
   "file_extension": ".py",
   "mimetype": "text/x-python",
   "name": "python",
   "nbconvert_exporter": "python",
   "pygments_lexer": "ipython3",
   "version": "3.11.4"
  },
  "orig_nbformat": 4
 },
 "nbformat": 4,
 "nbformat_minor": 2
}
