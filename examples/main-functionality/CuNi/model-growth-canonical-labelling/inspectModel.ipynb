{
 "cells": [
  {
   "cell_type": "code",
   "execution_count": null,
   "metadata": {
    "tags": []
   },
   "outputs": [],
   "source": [
    "import pickle\n",
    "from HopDec import Model\n",
    "from HopDec import Transitions\n",
    "import pandas as pd\n",
    "\n",
    "from HopDec.Input import getParams\n",
    "from HopDec.Vectors import *\n",
    "import networkx as nx\n",
    "from mpl_toolkits import mplot3d\n",
    "import numpy as np\n",
    "import matplotlib.pyplot as plt\n",
    "%matplotlib inline"
   ]
  },
  {
   "cell_type": "code",
   "execution_count": null,
   "metadata": {
    "tags": []
   },
   "outputs": [],
   "source": [
    "with open('model-checkpoint_latest.pkl', 'rb') as f:\n",
    "    model = pickle.load(f)"
   ]
  },
  {
   "cell_type": "code",
   "execution_count": null,
   "metadata": {
    "tags": []
   },
   "outputs": [],
   "source": [
    "for trans in model.transitionList:\n",
    "    print(trans.redecoration)\n",
    "    print(trans.forwardBarrier)"
   ]
  },
  {
   "cell_type": "code",
   "execution_count": null,
   "metadata": {
    "tags": []
   },
   "outputs": [],
   "source": [
    "canonicalLabelsTrans = [ [ trans.initialState.canLabel, trans.finalState.canLabel  ] for trans in model.transitionList ]\n",
    "\n",
    "G = nx.Graph()\n",
    "\n",
    "G.add_edges_from(canonicalLabelsTrans)\n",
    "\n",
    "pos = nx.spring_layout(G, seed=42)\n",
    "# pos = nx.circular_layout(G)\n",
    "# pos = nx.kamada_kawai_layout(G)\n",
    "\n",
    "plt.figure(figsize=(7,5\n",
    "                    ))\n",
    "\n",
    "nx.draw(G, pos,with_labels=True, node_color='red', node_size=200, font_size=10, font_weight='bold',width = 1)\n"
   ]
  },
  {
   "cell_type": "code",
   "execution_count": null,
   "metadata": {
    "tags": []
   },
   "outputs": [],
   "source": [
    "rows = []\n",
    "for t,trans in enumerate(model.transitionList):\n",
    "    rows.append({'trans ID' : t, 'I Can Label' : trans.initialState.canLabel, 'F Can Label' : trans.finalState.canLabel, 'F Bar' : trans.forwardBarrier,'dE' : trans.dE})\n",
    "\n",
    "    \n",
    "df = pd.DataFrame(rows)\n",
    "df.sort_values(by=['dE','F Bar'])\n",
    "    "
   ]
  },
  {
   "cell_type": "code",
   "execution_count": null,
   "metadata": {},
   "outputs": [],
   "source": [
    "for t,trans in enumerate(model.transitionList):\n",
    "    trans.exportStructure('trans',f'{t}')"
   ]
  },
  {
   "cell_type": "code",
   "execution_count": null,
   "metadata": {},
   "outputs": [],
   "source": []
  }
 ],
 "metadata": {
  "kernelspec": {
   "display_name": "HD",
   "language": "python",
   "name": "python3"
  },
  "language_info": {
   "codemirror_mode": {
    "name": "ipython",
    "version": 3
   },
   "file_extension": ".py",
   "mimetype": "text/x-python",
   "name": "python",
   "nbconvert_exporter": "python",
   "pygments_lexer": "ipython3",
   "version": "3.12.2"
  }
 },
 "nbformat": 4,
 "nbformat_minor": 4
}
