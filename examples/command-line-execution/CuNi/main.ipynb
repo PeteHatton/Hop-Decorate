{
 "cells": [
  {
   "attachments": {},
   "cell_type": "markdown",
   "metadata": {},
   "source": [
    "# COMMAND LINE EXAMPLE"
   ]
  },
  {
   "cell_type": "code",
   "execution_count": 2,
   "metadata": {},
   "outputs": [
    {
     "name": "stdout",
     "output_type": "stream",
     "text": [
      "####################################################################################################\n",
      "########################################## Hop + Decorate ##########################################\n",
      "####################################################################################################\n",
      "[16/05/24, 11:49:39]: HopDec >> Running: Minimize\n",
      "[16/05/24, 11:49:39]:   Lammps >> Minimizing. F Tol: 1e-05.\n",
      "[16/05/24, 11:49:39]: Lammps >> Completed Minimization, E: -899.4873 eV\n",
      "[16/05/24, 11:49:39]:     Minimize >> Minimized state is stored at: IV1_Min.dat\n",
      "[16/05/24, 11:49:39]: HopDec >> Finishing: Minimize\n",
      "####################################################################################################\n",
      "############################################### Fin. ###############################################\n",
      "####################################################################################################\n"
     ]
    }
   ],
   "source": [
    "!HopDec.py Minimize input/IV1.dat IV1_Min.dat"
   ]
  },
  {
   "cell_type": "code",
   "execution_count": 3,
   "metadata": {},
   "outputs": [
    {
     "name": "stdout",
     "output_type": "stream",
     "text": [
      "####################################################################################################\n",
      "########################################## Hop + Decorate ##########################################\n",
      "####################################################################################################\n",
      "[16/05/24, 11:49:44]: HopDec >> Running: Dimer\n",
      "[16/05/24, 11:49:44]:   Lammps >> Minimizing. F Tol: 1e-05.\n",
      "[16/05/24, 11:49:44]: Lammps >> Completed Minimization, E: -899.4873 eV\n",
      "[16/05/24, 11:49:44]: Dimer >> Found saddle point, 0.684222920422485 eV above inital position\n",
      "[16/05/24, 11:49:44]: Dimer >> Pushing saddle point into new minima\n",
      "[16/05/24, 11:49:44]:   Lammps >> Minimizing. F Tol: 1e-05.\n",
      "[16/05/24, 11:49:44]: Lammps >> Completed Minimization, E: -899.4873 eV\n",
      "[16/05/24, 11:49:44]: Dimer >> Writing file to IV2.dat\n",
      "[16/05/24, 11:49:44]: HopDec >> Finishing: Dimer\n",
      "####################################################################################################\n",
      "############################################### Fin. ###############################################\n",
      "####################################################################################################\n"
     ]
    }
   ],
   "source": [
    "!HopDec.py Dimer IV1_Min.dat IV2.dat -d -m -p"
   ]
  },
  {
   "cell_type": "code",
   "execution_count": 4,
   "metadata": {},
   "outputs": [
    {
     "name": "stdout",
     "output_type": "stream",
     "text": [
      "####################################################################################################\n",
      "########################################## Hop + Decorate ##########################################\n",
      "####################################################################################################\n",
      "[16/05/24, 11:49:47]: HopDec >> Running: Minimize\n",
      "[16/05/24, 11:49:47]:   Lammps >> Minimizing. F Tol: 1e-05.\n",
      "[16/05/24, 11:49:47]: Lammps >> Completed Minimization, E: -899.4873 eV\n",
      "[16/05/24, 11:49:47]:     Minimize >> Minimized state is stored at: IV2_Min.dat\n",
      "[16/05/24, 11:49:47]: HopDec >> Finishing: Minimize\n",
      "####################################################################################################\n",
      "############################################### Fin. ###############################################\n",
      "####################################################################################################\n"
     ]
    }
   ],
   "source": [
    "!HopDec.py Minimize IV2.dat IV2_Min.dat"
   ]
  },
  {
   "cell_type": "code",
   "execution_count": 5,
   "metadata": {},
   "outputs": [
    {
     "name": "stdout",
     "output_type": "stream",
     "text": [
      "####################################################################################################\n",
      "########################################## Hop + Decorate ##########################################\n",
      "####################################################################################################\n",
      "[16/05/24, 11:49:49]: HopDec >> Running: NEB\n",
      "[16/05/24, 11:49:49]: NEB >> Minimizing End Points\n",
      "[16/05/24, 11:49:49]:   Lammps >> Minimizing. F Tol: 1e-05.\n",
      "[16/05/24, 11:49:49]: Lammps >> Completed Minimization, E: -899.4873 eV\n",
      "[16/05/24, 11:49:49]:   Lammps >> Minimizing. F Tol: 1e-05.\n",
      "[16/05/24, 11:49:49]: Lammps >> Completed Minimization, E: -899.4873 eV\n",
      "[16/05/24, 11:49:49]: NEB >> Initializing ASE Structure\n",
      "[16/05/24, 11:49:49]: NEB >> Interpolating 11 images\n",
      "[16/05/24, 11:49:49]: NEB >> Performing NEB. Force Tol: 0.1, Transition:\n",
      "        8cd19cc52f4307b328bc83a1dc5eee5f -> 8cd19cc52f4307b328bc83a1dc5eee5f\n",
      "[16/05/24, 11:49:49]: NEB >> NEB finished Successfully. Extracting Results\n",
      "[16/05/24, 11:49:49]: NEB >> Checking NEB path for integrity\n",
      "[16/05/24, 11:49:49]: Transitions >> Saving NEB Energy Pathway to './/NEB_0.png'\n",
      "[16/05/24, 11:49:49]: Transitions >> Results:\n",
      "\t    Forward Energy Barrier: 0.5104 eV, Rate at 1000 K: 1.366494e-03 1/s\n",
      "            Reverse Energy Barrer: 0.5106 eV, Rate at 1000 K: 1.367029e-03 1/s\n",
      "            KRA: 0.5105 eV\n",
      "            dE: -0.0003 eV \n",
      "[16/05/24, 11:49:49]: NEB >> Completed 1 NEBs!\n",
      "[16/05/24, 11:49:49]: HopDec >> Finishing: NEB\n",
      "####################################################################################################\n",
      "############################################### Fin. ###############################################\n",
      "####################################################################################################\n"
     ]
    }
   ],
   "source": [
    "!HopDec.py NEB IV1_Min.dat IV2_Min.dat -p"
   ]
  },
  {
   "cell_type": "markdown",
   "metadata": {},
   "source": []
  },
  {
   "cell_type": "markdown",
   "metadata": {},
   "source": []
  }
 ],
 "metadata": {
  "kernelspec": {
   "display_name": "HD",
   "language": "python",
   "name": "python3"
  },
  "language_info": {
   "codemirror_mode": {
    "name": "ipython",
    "version": 3
   },
   "file_extension": ".py",
   "mimetype": "text/x-python",
   "name": "python",
   "nbconvert_exporter": "python",
   "pygments_lexer": "ipython3",
   "version": "3.12.2"
  },
  "orig_nbformat": 4
 },
 "nbformat": 4,
 "nbformat_minor": 2
}
