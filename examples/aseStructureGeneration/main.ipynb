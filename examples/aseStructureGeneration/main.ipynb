{
 "cells": [
  {
   "cell_type": "code",
   "execution_count": 1,
   "metadata": {},
   "outputs": [],
   "source": [
    "from ase.build import bulk, make_supercell\n",
    "import numpy as np\n",
    "import HopDec.Dimer as dimer\n",
    "import HopDec.Minimize as min\n",
    "import HopDec.NEB as neb\n",
    "import HopDec.Redecorate as redec\n",
    "from HopDec.Input import getParams\n",
    "from HopDec.ASE import ASE\n",
    "from HopDec.Lammps import LammpsInterface"
   ]
  },
  {
   "cell_type": "code",
   "execution_count": 2,
   "metadata": {},
   "outputs": [],
   "source": [
    "# Generate simple ASE structure\n",
    "\n",
    "CuPrim = bulk('Cu', 'fcc', a=3.6, cubic=True)\n",
    "CuPrim.cell\n",
    "CuSuperCell = make_supercell(CuPrim, np.array([[5,0,0],[0,5,0],[0,0,5]]))"
   ]
  },
  {
   "cell_type": "code",
   "execution_count": 3,
   "metadata": {},
   "outputs": [],
   "source": [
    "# Create Vacancy in supercell\n",
    "\n",
    "del CuSuperCell[249]"
   ]
  },
  {
   "cell_type": "code",
   "execution_count": 4,
   "metadata": {},
   "outputs": [],
   "source": [
    "# Initialize HopDec and transform ASE structure to State object\n",
    "\n",
    "params = getParams()\n",
    "ase = ASE(params)\n",
    "state = ase.toState(CuSuperCell)"
   ]
  },
  {
   "cell_type": "code",
   "execution_count": 5,
   "metadata": {},
   "outputs": [],
   "source": [
    "# mininize State in-place\n",
    "\n",
    "lmp = LammpsInterface(params)\n",
    "min.main(state,lmp,params)"
   ]
  },
  {
   "cell_type": "code",
   "execution_count": 6,
   "metadata": {},
   "outputs": [
    {
     "name": "stdout",
     "output_type": "stream",
     "text": [
      "[17/02/24, 16:23:28]:   Lammps >> Minimizing. F Tol: 1e-05.\n",
      "[17/02/24, 16:23:28]: Lammps >> Completed Minimization, E: -1764.8919 eV\n",
      "[17/02/24, 16:23:28]: Dimer >> Found saddle point, 0.7921867056008978 eV above inital position\n",
      "[17/02/24, 16:23:28]: Dimer >> Pushing saddle point into new minima\n",
      "[17/02/24, 16:23:28]:   Lammps >> Minimizing. F Tol: 1e-05.\n",
      "[17/02/24, 16:23:29]: Lammps >> Completed Minimization, E: -1764.8919 eV\n"
     ]
    }
   ],
   "source": [
    "# run dimer to find new state\n",
    "\n",
    "d = dimer.main(state,params,None, pushSaddle = True)"
   ]
  },
  {
   "cell_type": "code",
   "execution_count": 7,
   "metadata": {},
   "outputs": [],
   "source": [
    "# run NEB for barrier\n",
    "newState = d.newMinimaState\n",
    "n = neb.main(state, newState, params)"
   ]
  },
  {
   "cell_type": "code",
   "execution_count": 8,
   "metadata": {},
   "outputs": [
    {
     "name": "stdout",
     "output_type": "stream",
     "text": [
      "0.7411\n",
      "0.7411\n",
      "0.0\n"
     ]
    }
   ],
   "source": [
    "# return results through NEBResults object\n",
    "\n",
    "print(n.transitions[0].forwardBarrier)\n",
    "print(n.transitions[0].reverseBarrier)\n",
    "print(n.transitions[0].dE)"
   ]
  },
  {
   "cell_type": "code",
   "execution_count": 9,
   "metadata": {},
   "outputs": [
    {
     "data": {
      "text/plain": [
       "Atoms(symbols='Cu499', pbc=True, cell=[18.0, 18.0, 18.0])"
      ]
     },
     "execution_count": 9,
     "metadata": {},
     "output_type": "execute_result"
    }
   ],
   "source": [
    "# pass new structure back to ASE object\n",
    "\n",
    "newState.toASE(params)"
   ]
  },
  {
   "cell_type": "code",
   "execution_count": 10,
   "metadata": {},
   "outputs": [
    {
     "name": "stdout",
     "output_type": "stream",
     "text": [
      "[17/02/24, 16:23:34]: Redecorate >> Starting NEB Redecoration Campaign\n",
      "[17/02/24, 16:23:34]:   Redecorate >> rank: 0: Redecoration: 1\n",
      "[17/02/24, 16:23:37]:   Redecorate >> rank: 0: Redecoration: 2\n",
      "[17/02/24, 16:23:40]:   Redecorate >> rank: 0: Redecoration: 3\n",
      "[17/02/24, 16:23:43]:   Redecorate >> rank: 0: Redecoration: 4\n",
      "[17/02/24, 16:23:46]:   Redecorate >> rank: 0: Redecoration: 5\n",
      "[17/02/24, 16:23:48]:   Redecorate >> rank: 0: Redecoration: 6\n",
      "[17/02/24, 16:23:51]:   Redecorate >> rank: 0: Redecoration: 7\n",
      "[17/02/24, 16:23:54]:   Redecorate >> rank: 0: Redecoration: 8\n",
      "[17/02/24, 16:23:57]:   Redecorate >> rank: 0: Redecoration: 9\n",
      "[17/02/24, 16:24:00]:   Redecorate >> rank: 0: Redecoration: 10\n"
     ]
    }
   ],
   "source": [
    "# Redecoration campaign\n",
    "params.nDecorations = 10\n",
    "redecResults = redec.main(state, newState, params)\n"
   ]
  },
  {
   "cell_type": "code",
   "execution_count": 11,
   "metadata": {},
   "outputs": [
    {
     "name": "stdout",
     "output_type": "stream",
     "text": [
      "[17/02/24, 16:24:03]: Redecorate >> Summary:\n",
      "\tConnection 1:\n",
      "\t\tTransition 1:\n",
      "\t\t\ttransition.KRA = 0.8753\n",
      "\t\t\ttransition.dE = 0.2462\n",
      "\tConnection 2:\n",
      "\t\tTransition 1:\n",
      "\t\t\ttransition.KRA = 0.8652\n",
      "\t\t\ttransition.dE = 0.4501\n",
      "\tConnection 3:\n",
      "\t\tTransition 1:\n",
      "\t\t\ttransition.KRA = 0.7931\n",
      "\t\t\ttransition.dE = 0.0662\n",
      "\tConnection 4:\n",
      "\t\tTransition 1:\n",
      "\t\t\ttransition.KRA = 0.9897\n",
      "\t\t\ttransition.dE = -0.1585\n",
      "\tConnection 5:\n",
      "\t\tTransition 1:\n",
      "\t\t\ttransition.KRA = 0.7356\n",
      "\t\t\ttransition.dE = 0.1463\n",
      "\tConnection 6:\n",
      "\t\tTransition 1:\n",
      "\t\t\ttransition.KRA = 1.234\n",
      "\t\t\ttransition.dE = 0.1195\n",
      "\tConnection 7:\n",
      "\t\tTransition 1:\n",
      "\t\t\ttransition.KRA = 0.907\n",
      "\t\t\ttransition.dE = 0.0717\n",
      "\tConnection 8:\n",
      "\t\tTransition 1:\n",
      "\t\t\ttransition.KRA = 0.7482\n",
      "\t\t\ttransition.dE = 0.0321\n",
      "\tConnection 9:\n",
      "\t\tTransition 1:\n",
      "\t\t\ttransition.KRA = 0.7475\n",
      "\t\t\ttransition.dE = -0.1578\n",
      "\tConnection 10:\n",
      "\t\tTransition 1:\n",
      "\t\t\ttransition.KRA = 1.0304\n",
      "\t\t\ttransition.dE = 0.2424\n"
     ]
    }
   ],
   "source": [
    "redecResults.summarize()"
   ]
  },
  {
   "cell_type": "code",
   "execution_count": null,
   "metadata": {},
   "outputs": [],
   "source": []
  }
 ],
 "metadata": {
  "kernelspec": {
   "display_name": "HD",
   "language": "python",
   "name": "python3"
  },
  "language_info": {
   "codemirror_mode": {
    "name": "ipython",
    "version": 3
   },
   "file_extension": ".py",
   "mimetype": "text/x-python",
   "name": "python",
   "nbconvert_exporter": "python",
   "pygments_lexer": "ipython3",
   "version": "3.11.4"
  },
  "orig_nbformat": 4
 },
 "nbformat": 4,
 "nbformat_minor": 2
}
