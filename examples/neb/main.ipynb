{
 "cells": [
  {
   "attachments": {},
   "cell_type": "markdown",
   "metadata": {},
   "source": [
    "# NEB Example Use"
   ]
  },
  {
   "cell_type": "code",
   "execution_count": 1,
   "metadata": {},
   "outputs": [],
   "source": [
    "# import relevent modules\n",
    "from HopDec import NEB as neb\n",
    "from HopDec.State import *\n",
    "from HopDec.Input import getParams\n",
    "from HopDec.Lammps import LammpsInterface"
   ]
  },
  {
   "cell_type": "code",
   "execution_count": 2,
   "metadata": {},
   "outputs": [],
   "source": [
    "# Read the parameters from HopDec-config.xml\n",
    "params = getParams(inputParamFile='HopDec-config.xml')"
   ]
  },
  {
   "cell_type": "code",
   "execution_count": 3,
   "metadata": {},
   "outputs": [],
   "source": [
    "# Read the initial and final NEB files from directory and create\n",
    "# State object containing their data\n",
    "initialState = readStateLAMMPSData('DV1.dat')\n",
    "finalState = readStateLAMMPSData('DV2.dat')"
   ]
  },
  {
   "cell_type": "code",
   "execution_count": 4,
   "metadata": {},
   "outputs": [
    {
     "data": {
      "text/plain": [
       "0"
      ]
     },
     "execution_count": 4,
     "metadata": {},
     "output_type": "execute_result"
    }
   ],
   "source": [
    "initialState.totalEnergy"
   ]
  },
  {
   "cell_type": "code",
   "execution_count": 5,
   "metadata": {},
   "outputs": [],
   "source": [
    "lmp = LammpsInterface(params)"
   ]
  },
  {
   "cell_type": "code",
   "execution_count": 6,
   "metadata": {},
   "outputs": [
    {
     "data": {
      "text/plain": [
       "0.10660367237557763"
      ]
     },
     "execution_count": 6,
     "metadata": {},
     "output_type": "execute_result"
    }
   ],
   "source": [
    "lmp.minimize(initialState,verbose = False)\n",
    "lmp.minimize(finalState,verbose = False)"
   ]
  },
  {
   "cell_type": "code",
   "execution_count": 7,
   "metadata": {},
   "outputs": [
    {
     "data": {
      "text/plain": [
       "-894.9068524630219"
      ]
     },
     "execution_count": 7,
     "metadata": {},
     "output_type": "execute_result"
    }
   ],
   "source": [
    "initialState.totalEnergy"
   ]
  },
  {
   "cell_type": "code",
   "execution_count": 8,
   "metadata": {},
   "outputs": [
    {
     "data": {
      "text/plain": [
       "-894.9068525971833"
      ]
     },
     "execution_count": 8,
     "metadata": {},
     "output_type": "execute_result"
    }
   ],
   "source": [
    "finalState.totalEnergy"
   ]
  },
  {
   "cell_type": "code",
   "execution_count": 9,
   "metadata": {},
   "outputs": [
    {
     "data": {
      "text/plain": [
       "<HopDec.State.State at 0x12698f650>"
      ]
     },
     "execution_count": 9,
     "metadata": {},
     "output_type": "execute_result"
    }
   ],
   "source": [
    "initialState\n",
    "finalState"
   ]
  },
  {
   "cell_type": "code",
   "execution_count": 10,
   "metadata": {},
   "outputs": [
    {
     "name": "stdout",
     "output_type": "stream",
     "text": [
      "[21/02/24, 08:58:43]: NEB >> Minimizing End Points\n",
      "[21/02/24, 08:58:43]:   Lammps >> Minimizing. F Tol: 1e-05.\n",
      "[21/02/24, 08:58:43]: Lammps >> Completed Minimization, E: -894.9069 eV\n",
      "[21/02/24, 08:58:43]:   Lammps >> Minimizing. F Tol: 1e-05.\n",
      "[21/02/24, 08:58:43]: Lammps >> Completed Minimization, E: -894.9069 eV\n",
      "[21/02/24, 08:58:44]: NEB >> Initializing ASE Structure\n",
      "[21/02/24, 08:58:44]: NEB >> Interpolating 11 images\n",
      "[21/02/24, 08:58:44]: NEB >> Performing NEB. Force Tol: 0.1, Transition:\n",
      "        81ddc11d9b908d07783ca5fb62e43312 -> 81ddc11d9b908d07783ca5fb62e43312\n",
      "[21/02/24, 08:58:47]: NEB >> NEB finished Successfully. Extracting Results\n",
      "[21/02/24, 08:58:47]: NEB >> Checking NEB path for integrity\n",
      "[21/02/24, 08:58:47]: NEB >> Found Intermediate Mininma, Requeueing...\n",
      "[21/02/24, 08:58:47]: NEB >> Minimizing End Points\n",
      "[21/02/24, 08:58:47]:   Lammps >> Minimizing. F Tol: 1e-05.\n",
      "[21/02/24, 08:58:47]: Lammps >> Completed Minimization, E: -894.9069 eV\n",
      "[21/02/24, 08:58:47]:   Lammps >> Minimizing. F Tol: 1e-05.\n",
      "[21/02/24, 08:58:47]: Lammps >> Completed Minimization, E: -894.8015 eV\n",
      "[21/02/24, 08:58:47]: NEB >> Initializing ASE Structure\n",
      "[21/02/24, 08:58:47]: NEB >> Interpolating 11 images\n",
      "[21/02/24, 08:58:47]: NEB >> Performing NEB. Force Tol: 0.1, Transition:\n",
      "        81ddc11d9b908d07783ca5fb62e43312 -> 1d2f2e2455f3ec5c2d6fd104fc1d81f4\n",
      "[21/02/24, 08:58:48]: NEB >> NEB finished Successfully. Extracting Results\n",
      "[21/02/24, 08:58:48]: NEB >> Checking NEB path for integrity\n",
      "[21/02/24, 08:58:48]: Transitions >> Results:\n",
      "\t    Forward Energy Barrier: 0.6319 eV, Rate at 1000 K: 4.130591e-04 1/s\n",
      "            Reverse Energy Barrer: 0.5266 eV, Rate at 1000 K: 3.442268e-04 1/s\n",
      "            KRA: 0.5792 eV\n",
      "            dE: 0.1053 eV \n",
      "[21/02/24, 08:58:48]: NEB >> Minimizing End Points\n",
      "[21/02/24, 08:58:48]:   Lammps >> Minimizing. F Tol: 1e-05.\n",
      "[21/02/24, 08:58:48]: Lammps >> Completed Minimization, E: -894.8015 eV\n",
      "[21/02/24, 08:58:48]:   Lammps >> Minimizing. F Tol: 1e-05.\n",
      "[21/02/24, 08:58:48]: Lammps >> Completed Minimization, E: -894.9069 eV\n",
      "[21/02/24, 08:58:48]: NEB >> Initializing ASE Structure\n",
      "[21/02/24, 08:58:48]: NEB >> Interpolating 11 images\n",
      "[21/02/24, 08:58:48]: NEB >> Performing NEB. Force Tol: 0.1, Transition:\n",
      "        1d2f2e2455f3ec5c2d6fd104fc1d81f4 -> 81ddc11d9b908d07783ca5fb62e43312\n",
      "[21/02/24, 08:58:49]: NEB >> NEB finished Successfully. Extracting Results\n",
      "[21/02/24, 08:58:49]: NEB >> Checking NEB path for integrity\n",
      "[21/02/24, 08:58:49]: Transitions >> Results:\n",
      "\t    Forward Energy Barrier: 0.5266 eV, Rate at 1000 K: 1.168244e-03 1/s\n",
      "            Reverse Energy Barrer: 0.632 eV, Rate at 1000 K: 1.402070e-03 1/s\n",
      "            KRA: 0.5793 eV\n",
      "            dE: -0.1053 eV \n"
     ]
    }
   ],
   "source": [
    "# run the NEB method from the initial state to the final state.\n",
    "connection = neb.main(initialState, finalState, params, plotPathways = True, exportStructures = True, verbose = True)"
   ]
  },
  {
   "cell_type": "code",
   "execution_count": 11,
   "metadata": {},
   "outputs": [
    {
     "name": "stdout",
     "output_type": "stream",
     "text": [
      "Our connection contains 2 transitions.\n"
     ]
    }
   ],
   "source": [
    "# Notice that we actually did a couple of NEBs because there was many intermediate minima along the path\n",
    "# This resturns a 'Connection' Object.\n",
    "# A 'Connection' connects two defect states BUT a 'Connection' can contain many 'Transition'.\n",
    "# That is, a 'Connection' can have multiple saddles and many minima but a 'Transition' has strictly one saddle and two minina.\n",
    "# Lets take a look at what the 'Connection' object contains.\n",
    "\n",
    "connection.initialState # This is exactly the initial state that was defined above in cell 3\n",
    "connection.finalState # Ditto for the final state\n",
    "print(f'Our connection contains {len(connection)} transitions.')\n"
   ]
  },
  {
   "cell_type": "code",
   "execution_count": 12,
   "metadata": {},
   "outputs": [
    {
     "name": "stdout",
     "output_type": "stream",
     "text": [
      "Transition 1\n",
      "connection.transitions[i].forwardBarrier = 0.6319 eV\n",
      "connection.transitions[i].reverseBarrier = 0.5266 eV\n",
      "connection.transitions[i].KRA = 0.5792 eV\n",
      "connection.transitions[i].dE = 0.1053 eV \n",
      "\n",
      "Transition 2\n",
      "connection.transitions[i].forwardBarrier = 0.5266 eV\n",
      "connection.transitions[i].reverseBarrier = 0.632 eV\n",
      "connection.transitions[i].KRA = 0.5793 eV\n",
      "connection.transitions[i].dE = -0.1053 eV \n",
      "\n"
     ]
    }
   ],
   "source": [
    "connection.transitions # This is a list of the transitions we found within the connection.\n",
    "\n",
    "# Lets take a look at them:\n",
    "# These are state objects which define the initial, final and saddle state of each transition within our connection\n",
    "connection.transitions[0].initialState \n",
    "connection.transitions[0].finalState\n",
    "connection.transitions[0].saddleState\n",
    "\n",
    "connection.transitions[1].initialState \n",
    "connection.transitions[1].finalState\n",
    "connection.transitions[1].saddleState\n",
    "\n",
    "# and each transition has a forward barrier / reverse barrier / KRA / dE\n",
    "for i in range(len(connection.transitions)):\n",
    "    print(f'Transition {i+1}')\n",
    "    print(f\"{connection.transitions[i].forwardBarrier = } eV\")\n",
    "    print(f\"{connection.transitions[i].reverseBarrier = } eV\")\n",
    "    print(f\"{connection.transitions[i].KRA = } eV\")\n",
    "    print(f\"{connection.transitions[i].dE = } eV \\n\")\n"
   ]
  },
  {
   "cell_type": "code",
   "execution_count": 13,
   "metadata": {},
   "outputs": [
    {
     "name": "stdout",
     "output_type": "stream",
     "text": [
      "[21/02/24, 08:59:34]: Transitions >> Results:\n",
      "\t    Forward Energy Barrier(s): 0.6319, 0.5266 eV\n",
      "            Reverse Energy Barrer(s): 0.5266, 0.632 eV\n",
      "            KRA(s): 0.5792, 0.5793 eV\n",
      "            dE(s): 0.1053, -0.1053 eV \n"
     ]
    }
   ],
   "source": [
    "# or we can use this Connection method to print the results\n",
    "connection.printResults()"
   ]
  },
  {
   "cell_type": "code",
   "execution_count": null,
   "metadata": {},
   "outputs": [],
   "source": []
  }
 ],
 "metadata": {
  "kernelspec": {
   "display_name": "HD",
   "language": "python",
   "name": "python3"
  },
  "language_info": {
   "codemirror_mode": {
    "name": "ipython",
    "version": 3
   },
   "file_extension": ".py",
   "mimetype": "text/x-python",
   "name": "python",
   "nbconvert_exporter": "python",
   "pygments_lexer": "ipython3",
   "version": "3.11.4"
  },
  "orig_nbformat": 4
 },
 "nbformat": 4,
 "nbformat_minor": 2
}
