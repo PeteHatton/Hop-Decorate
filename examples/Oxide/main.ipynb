{
 "cells": [
  {
   "cell_type": "code",
   "execution_count": 1,
   "metadata": {},
   "outputs": [],
   "source": [
    "from ase.build import bulk, make_supercell\n",
    "import numpy as np\n",
    "\n",
    "from HopDec.ASE import *\n",
    "from HopDec.Input import *\n",
    "from HopDec.Lammps import *\n",
    "from HopDec.State import *\n",
    "\n",
    "import HopDec.Redecorate as Redecorate\n",
    "import HopDec.Dimer as Dimer\n",
    "import HopDec.Minimize as Minimize\n",
    "import HopDec.NEB as NEB\n",
    "import HopDec.MD as MD\n",
    "\n",
    "%matplotlib inline\n",
    "import matplotlib.pyplot as plt"
   ]
  },
  {
   "cell_type": "code",
   "execution_count": 2,
   "metadata": {},
   "outputs": [],
   "source": [
    "# pull the parameters set in HopDec-config.xml and load in the input lammps file referenced in the parameters\n",
    "params = getParams()\n",
    "initialState = readStateLAMMPSData(params.inputFilename)"
   ]
  },
  {
   "cell_type": "code",
   "execution_count": 3,
   "metadata": {},
   "outputs": [],
   "source": [
    "# mininize initialState in-place\n",
    "lmp = LammpsInterface(params)\n",
    "Minimize.main(initialState, lmp, params)"
   ]
  },
  {
   "cell_type": "code",
   "execution_count": 4,
   "metadata": {},
   "outputs": [
    {
     "name": "stdout",
     "output_type": "stream",
     "text": [
      "0\n",
      "1\n",
      "2\n",
      "3\n",
      "4\n",
      "5\n",
      "[29/02/24, 13:55:32]: MD >> Transition detected in state: \n"
     ]
    }
   ],
   "source": [
    "'''\n",
    "The goal here is to find a 'hop'. \n",
    "That is, we have a known state and we want to find an new state.\n",
    "We do this by running MD in segments of params.segmentLength at temperature: params.MDTemperature\n",
    "after each segment, we check if any atom has moved > params.eventDisplacement\n",
    "If any atom has then flag is set to 1 and the loop exits saving the new state as 'state'\n",
    "'''\n",
    "\n",
    "flag = 0\n",
    "i = 0\n",
    "while not flag:\n",
    "    print(i)\n",
    "    _, state, flag = MD.main(initialState, params)\n",
    "    i +=1"
   ]
  },
  {
   "cell_type": "code",
   "execution_count": 5,
   "metadata": {},
   "outputs": [],
   "source": [
    "# write known states to file\n",
    "\n",
    "initialState.writeState('0.dat')\n",
    "state.writeState('1.dat')"
   ]
  },
  {
   "cell_type": "code",
   "execution_count": 6,
   "metadata": {},
   "outputs": [],
   "source": [
    "# run a neb between known states and return a connection\n",
    "connection = NEB.main(initialState, state, params, exportStructures = True, plotPathways = True) # run a NEB between these two states"
   ]
  },
  {
   "cell_type": "code",
   "execution_count": 7,
   "metadata": {},
   "outputs": [
    {
     "name": "stdout",
     "output_type": "stream",
     "text": [
      "0.6967\n",
      "0.0244\n"
     ]
    }
   ],
   "source": [
    "# 'Connection' object is returned which contains 'Transitions'.\n",
    "# A 'Connection' can contain many transitions\n",
    "# A 'Transition' contains only one saddle and two minima\n",
    "\n",
    "for trans in connection.transitions:\n",
    "    print(trans.forwardBarrier)"
   ]
  },
  {
   "cell_type": "code",
   "execution_count": 8,
   "metadata": {},
   "outputs": [
    {
     "name": "stdout",
     "output_type": "stream",
     "text": [
      "[29/02/24, 13:56:15]: Redecorate >> Starting NEB Redecoration Campaign\n",
      "[29/02/24, 13:56:15]:   Redecorate >> rank: 0: Redecoration: 1\n",
      "[29/02/24, 13:56:39]:   Redecorate >> rank: 0: Redecoration: 2\n",
      "[29/02/24, 13:57:15]:   Redecorate >> rank: 0: Redecoration: 3\n",
      "[29/02/24, 13:57:27]:   Redecorate >> rank: 0: Redecoration: 4\n",
      "[29/02/24, 13:57:41]:   Redecorate >> rank: 0: Redecoration: 5\n",
      "[29/02/24, 13:57:56]:   Redecorate >> rank: 0: Redecoration: 6\n",
      "[29/02/24, 13:58:17]:   Redecorate >> rank: 0: Redecoration: 7\n",
      "[29/02/24, 13:58:21]:   Redecorate >> rank: 0: Redecoration: 8\n",
      "[29/02/24, 13:58:41]:   Redecorate >> rank: 0: Redecoration: 9\n",
      "[29/02/24, 13:58:53]:   Redecorate >> rank: 0: Redecoration: 10\n"
     ]
    },
    {
     "name": "stderr",
     "output_type": "stream",
     "text": [
      "/Users/peterhatton/Desktop/git/hopdecorate/HopDec/Redecorate.py:139: FutureWarning: The behavior of DataFrame concatenation with empty or all-NA entries is deprecated. In a future version, this will no longer exclude empty or all-NA columns when determining the result dtypes. To retain the old behavior, exclude the relevant entries before the concat operation.\n",
      "  df = pd.concat([df,row], ignore_index=True)\n"
     ]
    }
   ],
   "source": [
    "# Given that we have found a valid Connection / Transition.\n",
    "# We may want to run a redecoration campaign\n",
    "# This one will take the States defined and conduct 10 NEBS (controlled in config file) \n",
    "# Then return a results object\n",
    "params.nDecorations = 10\n",
    "redecResults = Redecorate.main(connection.transitions[0].initialState, connection.transitions[0].finalState, params, pickle = True)\n"
   ]
  },
  {
   "cell_type": "code",
   "execution_count": 9,
   "metadata": {},
   "outputs": [
    {
     "name": "stdout",
     "output_type": "stream",
     "text": [
      "[29/02/24, 13:59:18]: Redecorate >> Summary:\n",
      "\tConnection 1:\n",
      "\t\tTransition 1:\n",
      "\t\t\ttransition.forwardBarrier = 1.6013\n",
      "\t\t\ttransition.dE = -0.6887\n",
      "\tConnection 2:\n",
      "\t\tTransition 1:\n",
      "\t\t\ttransition.forwardBarrier = 1.3525\n",
      "\t\t\ttransition.dE = -1.3707\n",
      "\tConnection 3:\n",
      "\t\tTransition 1:\n",
      "\t\t\ttransition.forwardBarrier = 0.1255\n",
      "\t\t\ttransition.dE = -0.0942\n",
      "\tConnection 4:\n",
      "\t\tTransition 1:\n",
      "\t\t\ttransition.forwardBarrier = 1.1214\n",
      "\t\t\ttransition.dE = 1.111\n",
      "\tConnection 5:\n",
      "\t\tTransition 1:\n",
      "\t\t\ttransition.forwardBarrier = 0.5092\n",
      "\t\t\ttransition.dE = 0.3225\n",
      "\tConnection 6:\n",
      "\t\tTransition 1:\n",
      "\t\t\ttransition.forwardBarrier = 0.8188\n",
      "\t\t\ttransition.dE = -0.348\n",
      "\tConnection 7:\n",
      "\t\tTransition 1:\n",
      "\t\t\ttransition.forwardBarrier = 0.2358\n",
      "\t\t\ttransition.dE = -0.9137\n",
      "\tConnection 8:\n",
      "\t\tTransition 1:\n",
      "\t\t\ttransition.forwardBarrier = 0.0642\n",
      "\t\t\ttransition.dE = -0.032\n",
      "\tConnection 9:\n",
      "\t\tTransition 1:\n",
      "\t\t\ttransition.forwardBarrier = 1.2141\n",
      "\t\t\ttransition.dE = -0.4447\n"
     ]
    }
   ],
   "source": [
    "# we can summarize all of the decorations (connections) with the method below.\n",
    "# note that a decoration (connection) can contain many transitions.\n",
    "redecResults.summarize()"
   ]
  },
  {
   "cell_type": "code",
   "execution_count": 14,
   "metadata": {},
   "outputs": [
    {
     "data": {
      "text/plain": [
       "(array([2., 1., 1., 0., 1., 0., 1., 1., 1., 1.]),\n",
       " array([0.0642 , 0.21791, 0.37162, 0.52533, 0.67904, 0.83275, 0.98646,\n",
       "        1.14017, 1.29388, 1.44759, 1.6013 ]),\n",
       " <BarContainer object of 10 artists>)"
      ]
     },
     "execution_count": 14,
     "metadata": {},
     "output_type": "execute_result"
    },
    {
     "data": {
      "image/png": "[encoded data removed]",
      "text/plain": [
       "<Figure size 500x300 with 1 Axes>"
      ]
     },
     "metadata": {},
     "output_type": "display_data"
    }
   ],
   "source": [
    "# we can now plot the distributions of barriers we found\n",
    "\n",
    "data = [ conn.transitions[0].forwardBarrier for conn in redecResults.connections ]\n",
    "fig, axs = plt.subplots(1,1, figsize = (5,3))\n",
    "axs.hist(data)"
   ]
  },
  {
   "cell_type": "code",
   "execution_count": 11,
   "metadata": {},
   "outputs": [],
   "source": [
    "'''\n",
    "The redecoration process produces a .pickle file which is a pickle of a pandas df containing information about the barriers associated with a given decoration.\n",
    "we can inspect that pickle for further analysis.\n",
    "\n",
    "'''\n",
    "import pickle\n",
    "import pandas as pd"
   ]
  },
  {
   "cell_type": "code",
   "execution_count": 15,
   "metadata": {},
   "outputs": [
    {
     "data": {
      "text/html": [
       "<div>\n",
       "<style scoped>\n",
       "    .dataframe tbody tr th:only-of-type {\n",
       "        vertical-align: middle;\n",
       "    }\n",
       "\n",
       "    .dataframe tbody tr th {\n",
       "        vertical-align: top;\n",
       "    }\n",
       "\n",
       "    .dataframe thead th {\n",
       "        text-align: right;\n",
       "    }\n",
       "</style>\n",
       "<table border=\"1\" class=\"dataframe\">\n",
       "  <thead>\n",
       "    <tr style=\"text-align: right;\">\n",
       "      <th></th>\n",
       "      <th>initialState</th>\n",
       "      <th>finalState</th>\n",
       "      <th>KRA</th>\n",
       "      <th>dE</th>\n",
       "      <th>initialState_Energy</th>\n",
       "      <th>finalState_Energy</th>\n",
       "    </tr>\n",
       "  </thead>\n",
       "  <tbody>\n",
       "    <tr>\n",
       "      <th>0</th>\n",
       "      <td>(Atom('Al', [7.3030572786620525, 1.03148405076...</td>\n",
       "      <td>(Atom('Al', [7.288274399478207, 1.045938912676...</td>\n",
       "      <td>1.9456</td>\n",
       "      <td>-0.6887</td>\n",
       "      <td>-5893.814893</td>\n",
       "      <td>-5894.503593</td>\n",
       "    </tr>\n",
       "    <tr>\n",
       "      <th>1</th>\n",
       "      <td>(Atom('Mg', [7.333606154757452, 1.065481223780...</td>\n",
       "      <td>(Atom('Mg', [7.3319054940330854, 1.06656409577...</td>\n",
       "      <td>2.0378</td>\n",
       "      <td>-1.3707</td>\n",
       "      <td>-5896.846986</td>\n",
       "      <td>-5898.217642</td>\n",
       "    </tr>\n",
       "    <tr>\n",
       "      <th>2</th>\n",
       "      <td>(Atom('Al', [7.305706102942462, 1.062913824308...</td>\n",
       "      <td>(Atom('Al', [7.311842170147592, 1.062337598812...</td>\n",
       "      <td>0.1726</td>\n",
       "      <td>-0.0942</td>\n",
       "      <td>-5898.157495</td>\n",
       "      <td>-5898.251698</td>\n",
       "    </tr>\n",
       "    <tr>\n",
       "      <th>3</th>\n",
       "      <td>(Atom('Mg', [7.333686700378506, 1.070357736024...</td>\n",
       "      <td>(Atom('Mg', [7.3363141604076905, 1.07503726434...</td>\n",
       "      <td>0.5659</td>\n",
       "      <td>1.1110</td>\n",
       "      <td>-5898.962678</td>\n",
       "      <td>-5897.851652</td>\n",
       "    </tr>\n",
       "    <tr>\n",
       "      <th>4</th>\n",
       "      <td>(Atom('Al', [7.334597081113589, 1.061731500290...</td>\n",
       "      <td>(Atom('Al', [7.335515806064644, 1.065219931369...</td>\n",
       "      <td>0.3480</td>\n",
       "      <td>0.3225</td>\n",
       "      <td>-5896.681897</td>\n",
       "      <td>-5896.359380</td>\n",
       "    </tr>\n",
       "    <tr>\n",
       "      <th>5</th>\n",
       "      <td>(Atom('Mg', [7.304384890486121, 1.065835985687...</td>\n",
       "      <td>(Atom('Mg', [7.30261221228179, 1.1024157741348...</td>\n",
       "      <td>0.9928</td>\n",
       "      <td>-0.3480</td>\n",
       "      <td>-5895.137343</td>\n",
       "      <td>-5895.485370</td>\n",
       "    </tr>\n",
       "    <tr>\n",
       "      <th>6</th>\n",
       "      <td>(Atom('Al', [7.3065371919386415, 1.03102674665...</td>\n",
       "      <td>(Atom('Al', [7.302422158913106, 1.042666144682...</td>\n",
       "      <td>0.6926</td>\n",
       "      <td>-0.9137</td>\n",
       "      <td>-5893.072280</td>\n",
       "      <td>-5893.985986</td>\n",
       "    </tr>\n",
       "    <tr>\n",
       "      <th>7</th>\n",
       "      <td>(Atom('Al', [7.307959408210617, 1.057011726001...</td>\n",
       "      <td>(Atom('Al', [7.318017877216371, 1.058523044568...</td>\n",
       "      <td>0.0802</td>\n",
       "      <td>-0.0320</td>\n",
       "      <td>-5895.812477</td>\n",
       "      <td>-5895.844434</td>\n",
       "    </tr>\n",
       "    <tr>\n",
       "      <th>8</th>\n",
       "      <td>(Atom('Mg', [7.277936790964701, 1.106524373110...</td>\n",
       "      <td>(Atom('Mg', [7.271594698820002, 1.137330950783...</td>\n",
       "      <td>1.4364</td>\n",
       "      <td>-0.4447</td>\n",
       "      <td>-5897.281999</td>\n",
       "      <td>-5897.726738</td>\n",
       "    </tr>\n",
       "  </tbody>\n",
       "</table>\n",
       "</div>"
      ],
      "text/plain": [
       "                                        initialState  \\\n",
       "0  (Atom('Al', [7.3030572786620525, 1.03148405076...   \n",
       "1  (Atom('Mg', [7.333606154757452, 1.065481223780...   \n",
       "2  (Atom('Al', [7.305706102942462, 1.062913824308...   \n",
       "3  (Atom('Mg', [7.333686700378506, 1.070357736024...   \n",
       "4  (Atom('Al', [7.334597081113589, 1.061731500290...   \n",
       "5  (Atom('Mg', [7.304384890486121, 1.065835985687...   \n",
       "6  (Atom('Al', [7.3065371919386415, 1.03102674665...   \n",
       "7  (Atom('Al', [7.307959408210617, 1.057011726001...   \n",
       "8  (Atom('Mg', [7.277936790964701, 1.106524373110...   \n",
       "\n",
       "                                          finalState     KRA      dE  \\\n",
       "0  (Atom('Al', [7.288274399478207, 1.045938912676...  1.9456 -0.6887   \n",
       "1  (Atom('Mg', [7.3319054940330854, 1.06656409577...  2.0378 -1.3707   \n",
       "2  (Atom('Al', [7.311842170147592, 1.062337598812...  0.1726 -0.0942   \n",
       "3  (Atom('Mg', [7.3363141604076905, 1.07503726434...  0.5659  1.1110   \n",
       "4  (Atom('Al', [7.335515806064644, 1.065219931369...  0.3480  0.3225   \n",
       "5  (Atom('Mg', [7.30261221228179, 1.1024157741348...  0.9928 -0.3480   \n",
       "6  (Atom('Al', [7.302422158913106, 1.042666144682...  0.6926 -0.9137   \n",
       "7  (Atom('Al', [7.318017877216371, 1.058523044568...  0.0802 -0.0320   \n",
       "8  (Atom('Mg', [7.271594698820002, 1.137330950783...  1.4364 -0.4447   \n",
       "\n",
       "   initialState_Energy  finalState_Energy  \n",
       "0         -5893.814893       -5894.503593  \n",
       "1         -5896.846986       -5898.217642  \n",
       "2         -5898.157495       -5898.251698  \n",
       "3         -5898.962678       -5897.851652  \n",
       "4         -5896.681897       -5896.359380  \n",
       "5         -5895.137343       -5895.485370  \n",
       "6         -5893.072280       -5893.985986  \n",
       "7         -5895.812477       -5895.844434  \n",
       "8         -5897.281999       -5897.726738  "
      ]
     },
     "execution_count": 15,
     "metadata": {},
     "output_type": "execute_result"
    }
   ],
   "source": [
    "# since we know the pickle is a pandas dataframe, we can use the inbuilt method in pandas to read it to memory\n",
    "d = pd.read_pickle('36ab0b93d0440220b62f1d373e8a1352.pickle')\n",
    "d"
   ]
  },
  {
   "cell_type": "code",
   "execution_count": 16,
   "metadata": {},
   "outputs": [],
   "source": [
    "# we can then write the decorated structures to file.\n",
    "# or we could loop over the rows of the data frame and write each structure to file\n",
    "\n",
    "ase = ASE(params)\n",
    "i = ase.toState(d['initialState'][0])\n",
    "f = ase.toState(d['finalState'][0])\n",
    "\n",
    "i.writeState('0.dat')\n",
    "f.writeState('1.dat')"
   ]
  },
  {
   "cell_type": "code",
   "execution_count": null,
   "metadata": {},
   "outputs": [],
   "source": []
  }
 ],
 "metadata": {
  "kernelspec": {
   "display_name": "HDMPI",
   "language": "python",
   "name": "python3"
  },
  "language_info": {
   "codemirror_mode": {
    "name": "ipython",
    "version": 3
   },
   "file_extension": ".py",
   "mimetype": "text/x-python",
   "name": "python",
   "nbconvert_exporter": "python",
   "pygments_lexer": "ipython3",
   "version": "3.11.8"
  },
  "orig_nbformat": 4
 },
 "nbformat": 4,
 "nbformat_minor": 2
}
